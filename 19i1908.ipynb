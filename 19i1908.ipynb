{
 "cells": [
  {
   "cell_type": "code",
   "execution_count": 177,
   "metadata": {},
   "outputs": [],
   "source": [
    "#Importing libraries\n",
    "import pandas as pd \n",
    "import numpy as np\n",
    "import torch\n",
    "from torch import nn\n",
    "from d2l import torch as d2l\n",
    "from sklearn.preprocessing import LabelEncoder\n",
    "from sklearn import preprocessing\n",
    "from PIL import Image\n",
    "import pytesseract\n",
    "import argparse\n",
    "import cv2\n",
    "import os\n",
    "import torch.optim as optim\n",
    "from tqdm import tqdm\n",
    "import torch.nn.functional as F\n",
    "from torchvision.io import read_image\n",
    "from yellowbrick.cluster import KElbowVisualizer\n",
    "from sklearn.cluster import KMeans\n",
    "import time"
   ]
  },
  {
   "cell_type": "markdown",
   "metadata": {},
   "source": [
    "## Reading files and preprocessing\n"
   ]
  },
  {
   "cell_type": "code",
   "execution_count": 2,
   "metadata": {},
   "outputs": [],
   "source": [
    "labels= pd.read_csv(\"data_labels.csv\")"
   ]
  },
  {
   "cell_type": "code",
   "execution_count": 3,
   "metadata": {},
   "outputs": [],
   "source": [
    "#Dropping nan values\n",
    "labels=labels.dropna()"
   ]
  },
  {
   "cell_type": "markdown",
   "metadata": {},
   "source": [
    "## Image processing"
   ]
  },
  {
   "cell_type": "code",
   "execution_count": 4,
   "metadata": {},
   "outputs": [],
   "source": [
    "from PIL import Image\n",
    "import os, sys"
   ]
  },
  {
   "cell_type": "code",
   "execution_count": 5,
   "metadata": {},
   "outputs": [],
   "source": [
    "#adding image names to a list from the dataframe\n",
    "image_new= labels['Image_name']\n",
    "image_new=image_new.tolist()"
   ]
  },
  {
   "cell_type": "code",
   "execution_count": 6,
   "metadata": {},
   "outputs": [],
   "source": [
    "for i in image_new:\n",
    "    image = Image.open(\"Images/\"+i+\".jpg\")\n",
    "    #resizing the image to 120x120\n",
    "    image = image.resize((36,36),Image.ANTIALIAS)\n",
    "    #converting to RGB AND PNG(image-type)\n",
    "    image = image.convert('RGB')\n",
    "    new_name = i.split('.')[0]+\".png\"\n",
    "    #saving the processed images in a new file\n",
    "    image.save(fp=\"new_images/\"+new_name)"
   ]
  },
  {
   "cell_type": "markdown",
   "metadata": {},
   "source": [
    "# Step 1 : \n",
    "## Sampling"
   ]
  },
  {
   "cell_type": "code",
   "execution_count": 7,
   "metadata": {},
   "outputs": [],
   "source": [
    "image_array = []\n",
    "for i in image_new:\n",
    "    image = Image.open(\"new_images/\"+i+'.png')\n",
    "    data = np.asarray(image)\n",
    "    image_array.append(data)"
   ]
  },
  {
   "cell_type": "code",
   "execution_count": 8,
   "metadata": {},
   "outputs": [
    {
     "data": {
      "text/plain": [
       "(516, 36, 36, 3)"
      ]
     },
     "execution_count": 8,
     "metadata": {},
     "output_type": "execute_result"
    }
   ],
   "source": [
    "image_array = np.asarray(image_array)\n",
    "image_array.shape"
   ]
  },
  {
   "cell_type": "code",
   "execution_count": 9,
   "metadata": {},
   "outputs": [],
   "source": [
    "f_array=[]\n",
    "for i in image_array:\n",
    "    flatten_array=i.flatten()\n",
    "    f_array.append(flatten_array)"
   ]
  },
  {
   "cell_type": "code",
   "execution_count": 10,
   "metadata": {},
   "outputs": [
    {
     "name": "stdout",
     "output_type": "stream",
     "text": [
      "[array([0, 0, 0, ..., 0, 0, 0], dtype=uint8), array([0, 0, 0, ..., 0, 0, 1], dtype=uint8), array([0, 0, 0, ..., 0, 0, 1], dtype=uint8), array([0, 0, 0, ..., 0, 0, 0], dtype=uint8), array([0, 0, 0, ..., 0, 0, 0], dtype=uint8), array([0, 0, 3, ..., 0, 0, 4], dtype=uint8), array([0, 0, 1, ..., 0, 0, 0], dtype=uint8), array([0, 0, 2, ..., 0, 0, 3], dtype=uint8), array([0, 0, 0, ..., 0, 0, 1], dtype=uint8), array([0, 0, 3, ..., 0, 0, 3], dtype=uint8), array([0, 0, 1, ..., 0, 0, 1], dtype=uint8), array([0, 0, 1, ..., 0, 0, 2], dtype=uint8), array([0, 0, 0, ..., 0, 0, 1], dtype=uint8), array([1, 0, 0, ..., 0, 0, 0], dtype=uint8), array([0, 0, 2, ..., 0, 0, 3], dtype=uint8), array([0, 0, 0, ..., 0, 0, 2], dtype=uint8), array([0, 0, 3, ..., 0, 0, 2], dtype=uint8), array([3, 0, 1, ..., 0, 0, 4], dtype=uint8), array([1, 0, 0, ..., 0, 0, 2], dtype=uint8), array([0, 0, 1, ..., 0, 0, 1], dtype=uint8), array([3, 0, 1, ..., 0, 0, 1], dtype=uint8), array([0, 0, 0, ..., 1, 0, 0], dtype=uint8), array([0, 0, 4, ..., 0, 0, 4], dtype=uint8), array([0, 0, 0, ..., 0, 0, 0], dtype=uint8), array([0, 0, 0, ..., 0, 0, 1], dtype=uint8), array([1, 0, 0, ..., 0, 0, 2], dtype=uint8), array([0, 0, 0, ..., 4, 1, 1], dtype=uint8), array([0, 0, 3, ..., 0, 0, 2], dtype=uint8), array([1, 0, 3, ..., 0, 0, 4], dtype=uint8), array([0, 0, 1, ..., 0, 0, 4], dtype=uint8), array([0, 0, 1, ..., 0, 0, 2], dtype=uint8), array([0, 0, 2, ..., 0, 0, 2], dtype=uint8), array([0, 0, 1, ..., 0, 0, 3], dtype=uint8), array([0, 0, 1, ..., 0, 0, 2], dtype=uint8), array([0, 0, 2, ..., 0, 0, 1], dtype=uint8), array([0, 0, 0, ..., 0, 0, 0], dtype=uint8), array([0, 0, 1, ..., 0, 0, 3], dtype=uint8), array([0, 0, 1, ..., 0, 0, 2], dtype=uint8), array([0, 0, 1, ..., 0, 0, 2], dtype=uint8), array([0, 0, 0, ..., 0, 0, 0], dtype=uint8), array([5, 1, 2, ..., 1, 0, 2], dtype=uint8), array([5, 1, 2, ..., 4, 1, 1], dtype=uint8), array([2, 0, 1, ..., 3, 0, 1], dtype=uint8), array([3, 0, 1, ..., 0, 0, 4], dtype=uint8), array([3, 0, 1, ..., 0, 0, 1], dtype=uint8), array([5, 1, 2, ..., 5, 1, 2], dtype=uint8), array([4, 1, 1, ..., 0, 0, 2], dtype=uint8), array([5, 1, 2, ..., 2, 0, 2], dtype=uint8), array([0, 0, 3, ..., 0, 0, 4], dtype=uint8), array([5, 1, 2, ..., 0, 0, 1], dtype=uint8), array([0, 0, 3, ..., 0, 0, 4], dtype=uint8), array([4, 1, 1, ..., 0, 0, 0], dtype=uint8), array([1, 0, 0, ..., 0, 0, 0], dtype=uint8), array([5, 1, 2, ..., 5, 1, 2], dtype=uint8), array([0, 0, 0, ..., 0, 0, 2], dtype=uint8), array([0, 0, 1, ..., 0, 0, 1], dtype=uint8), array([0, 0, 1, ..., 0, 0, 3], dtype=uint8), array([0, 0, 3, ..., 0, 0, 3], dtype=uint8), array([0, 0, 0, ..., 0, 0, 1], dtype=uint8), array([1, 0, 1, ..., 0, 0, 3], dtype=uint8), array([0, 0, 0, ..., 0, 0, 0], dtype=uint8), array([5, 1, 2, ..., 0, 0, 1], dtype=uint8), array([0, 0, 0, ..., 0, 0, 0], dtype=uint8), array([0, 0, 1, ..., 0, 0, 1], dtype=uint8), array([0, 0, 0, ..., 1, 0, 0], dtype=uint8), array([0, 0, 3, ..., 0, 0, 2], dtype=uint8), array([0, 0, 3, ..., 0, 0, 2], dtype=uint8), array([0, 0, 0, ..., 1, 0, 0], dtype=uint8), array([0, 0, 2, ..., 0, 0, 2], dtype=uint8), array([2, 0, 1, ..., 2, 0, 2], dtype=uint8), array([0, 0, 1, ..., 0, 0, 0], dtype=uint8), array([0, 0, 0, ..., 0, 0, 0], dtype=uint8), array([0, 0, 2, ..., 0, 0, 1], dtype=uint8), array([0, 0, 2, ..., 0, 0, 2], dtype=uint8), array([5, 1, 2, ..., 0, 0, 1], dtype=uint8), array([0, 0, 1, ..., 0, 0, 3], dtype=uint8), array([0, 0, 4, ..., 0, 0, 3], dtype=uint8), array([2, 0, 1, ..., 0, 0, 1], dtype=uint8), array([0, 0, 1, ..., 0, 0, 2], dtype=uint8), array([4, 1, 2, ..., 0, 0, 3], dtype=uint8), array([5, 1, 2, ..., 0, 0, 0], dtype=uint8), array([0, 0, 1, ..., 0, 0, 2], dtype=uint8), array([4, 1, 2, ..., 5, 1, 2], dtype=uint8), array([0, 0, 3, ..., 0, 0, 4], dtype=uint8), array([2, 0, 1, ..., 3, 1, 1], dtype=uint8), array([1, 0, 0, ..., 0, 0, 2], dtype=uint8), array([3, 1, 2, ..., 3, 1, 2], dtype=uint8), array([2, 0, 2, ..., 2, 0, 2], dtype=uint8), array([2, 0, 2, ..., 2, 0, 2], dtype=uint8), array([2, 0, 2, ..., 2, 0, 2], dtype=uint8), array([2, 0, 2, ..., 2, 0, 2], dtype=uint8), array([2, 0, 3, ..., 2, 0, 3], dtype=uint8), array([3, 1, 2, ..., 3, 1, 3], dtype=uint8), array([4, 2, 3, ..., 3, 1, 3], dtype=uint8), array([3, 1, 3, ..., 3, 1, 3], dtype=uint8), array([4, 1, 3, ..., 3, 1, 2], dtype=uint8), array([3, 1, 3, ..., 3, 1, 3], dtype=uint8), array([2, 0, 3, ..., 2, 0, 3], dtype=uint8), array([0, 0, 1, ..., 0, 0, 3], dtype=uint8), array([3, 1, 2, ..., 3, 1, 3], dtype=uint8), array([3, 1, 2, ..., 3, 1, 2], dtype=uint8), array([6, 2, 2, ..., 4, 2, 2], dtype=uint8), array([3, 1, 2, ..., 3, 1, 2], dtype=uint8), array([0, 0, 0, ..., 0, 0, 0], dtype=uint8), array([2, 0, 1, ..., 0, 0, 1], dtype=uint8), array([0, 0, 0, ..., 0, 0, 0], dtype=uint8), array([2, 0, 1, ..., 0, 0, 3], dtype=uint8), array([2, 0, 1, ..., 0, 0, 3], dtype=uint8), array([0, 0, 1, ..., 0, 0, 3], dtype=uint8), array([0, 0, 2, ..., 0, 0, 4], dtype=uint8), array([0, 0, 3, ..., 0, 0, 3], dtype=uint8), array([0, 0, 1, ..., 0, 0, 3], dtype=uint8), array([0, 0, 0, ..., 0, 0, 1], dtype=uint8), array([0, 0, 1, ..., 0, 0, 1], dtype=uint8), array([5, 1, 2, ..., 3, 0, 2], dtype=uint8), array([5, 1, 2, ..., 4, 1, 2], dtype=uint8), array([0, 0, 0, ..., 0, 0, 1], dtype=uint8), array([5, 1, 2, ..., 0, 0, 2], dtype=uint8), array([0, 0, 0, ..., 0, 0, 2], dtype=uint8), array([0, 0, 0, ..., 0, 0, 0], dtype=uint8), array([0, 0, 0, ..., 0, 0, 0], dtype=uint8), array([0, 0, 0, ..., 0, 0, 0], dtype=uint8), array([0, 0, 0, ..., 0, 0, 1], dtype=uint8), array([3, 1, 1, ..., 0, 0, 3], dtype=uint8), array([0, 0, 1, ..., 0, 0, 2], dtype=uint8), array([0, 0, 1, ..., 0, 0, 1], dtype=uint8), array([0, 0, 0, ..., 0, 0, 2], dtype=uint8), array([0, 0, 0, ..., 0, 0, 0], dtype=uint8), array([0, 0, 0, ..., 0, 0, 0], dtype=uint8), array([0, 0, 0, ..., 0, 0, 2], dtype=uint8), array([0, 0, 2, ..., 0, 0, 2], dtype=uint8), array([0, 0, 1, ..., 0, 0, 2], dtype=uint8), array([0, 0, 0, ..., 0, 0, 0], dtype=uint8), array([0, 0, 1, ..., 0, 0, 0], dtype=uint8), array([0, 0, 0, ..., 0, 0, 3], dtype=uint8), array([0, 0, 0, ..., 0, 0, 0], dtype=uint8), array([2, 0, 1, ..., 0, 0, 2], dtype=uint8), array([0, 0, 2, ..., 0, 0, 2], dtype=uint8), array([2, 0, 1, ..., 0, 0, 1], dtype=uint8), array([0, 0, 1, ..., 0, 0, 2], dtype=uint8), array([5, 1, 2, ..., 5, 1, 2], dtype=uint8), array([0, 0, 2, ..., 0, 0, 0], dtype=uint8), array([2, 0, 1, ..., 0, 0, 3], dtype=uint8), array([0, 0, 1, ..., 0, 0, 0], dtype=uint8), array([0, 0, 0, ..., 0, 0, 2], dtype=uint8), array([0, 0, 2, ..., 0, 0, 0], dtype=uint8), array([0, 0, 0, ..., 0, 0, 0], dtype=uint8), array([1, 0, 1, ..., 0, 0, 2], dtype=uint8), array([5, 1, 2, ..., 5, 1, 2], dtype=uint8), array([0, 0, 3, ..., 0, 0, 3], dtype=uint8), array([0, 0, 4, ..., 0, 0, 3], dtype=uint8), array([0, 0, 2, ..., 0, 0, 1], dtype=uint8), array([0, 0, 0, ..., 0, 0, 3], dtype=uint8), array([0, 0, 0, ..., 0, 0, 2], dtype=uint8), array([0, 0, 1, ..., 0, 0, 1], dtype=uint8), array([0, 0, 1, ..., 0, 0, 2], dtype=uint8), array([4, 1, 2, ..., 0, 0, 1], dtype=uint8), array([4, 1, 1, ..., 4, 1, 2], dtype=uint8), array([0, 0, 1, ..., 0, 0, 1], dtype=uint8), array([0, 0, 3, ..., 1, 0, 3], dtype=uint8), array([0, 0, 3, ..., 0, 0, 2], dtype=uint8), array([0, 0, 1, ..., 0, 0, 1], dtype=uint8), array([5, 1, 2, ..., 5, 1, 2], dtype=uint8), array([5, 1, 2, ..., 5, 1, 3], dtype=uint8), array([3, 1, 1, ..., 2, 0, 1], dtype=uint8), array([0, 0, 0, ..., 0, 0, 1], dtype=uint8), array([0, 0, 1, ..., 0, 0, 1], dtype=uint8), array([0, 0, 0, ..., 0, 0, 0], dtype=uint8), array([0, 0, 1, ..., 0, 0, 1], dtype=uint8), array([0, 0, 1, ..., 0, 0, 1], dtype=uint8), array([0, 0, 1, ..., 0, 0, 3], dtype=uint8), array([0, 0, 4, ..., 0, 0, 4], dtype=uint8), array([2, 0, 1, ..., 0, 0, 1], dtype=uint8), array([0, 0, 2, ..., 0, 0, 3], dtype=uint8), array([0, 0, 1, ..., 0, 0, 3], dtype=uint8), array([4, 1, 1, ..., 0, 0, 1], dtype=uint8), array([0, 0, 1, ..., 0, 0, 1], dtype=uint8), array([0, 0, 0, ..., 0, 0, 2], dtype=uint8), array([0, 0, 1, ..., 0, 0, 1], dtype=uint8), array([5, 2, 1, ..., 5, 1, 2], dtype=uint8), array([3, 0, 1, ..., 5, 1, 2], dtype=uint8), array([0, 0, 1, ..., 0, 0, 2], dtype=uint8), array([0, 0, 0, ..., 0, 0, 2], dtype=uint8), array([2, 0, 0, ..., 4, 1, 1], dtype=uint8), array([0, 0, 4, ..., 0, 0, 4], dtype=uint8), array([0, 0, 1, ..., 0, 0, 1], dtype=uint8), array([0, 0, 2, ..., 0, 0, 1], dtype=uint8), array([0, 0, 0, ..., 0, 0, 0], dtype=uint8), array([0, 0, 1, ..., 0, 0, 2], dtype=uint8), array([0, 0, 0, ..., 0, 0, 0], dtype=uint8), array([0, 0, 3, ..., 0, 0, 3], dtype=uint8), array([0, 0, 0, ..., 3, 0, 1], dtype=uint8), array([0, 0, 0, ..., 0, 0, 0], dtype=uint8), array([0, 0, 0, ..., 0, 0, 2], dtype=uint8), array([0, 0, 0, ..., 0, 0, 1], dtype=uint8), array([0, 0, 1, ..., 0, 0, 3], dtype=uint8), array([0, 0, 1, ..., 0, 0, 2], dtype=uint8), array([3, 1, 1, ..., 5, 1, 2], dtype=uint8), array([0, 0, 0, ..., 0, 0, 3], dtype=uint8), array([5, 1, 2, ..., 1, 0, 2], dtype=uint8), array([0, 0, 0, ..., 0, 0, 0], dtype=uint8), array([0, 0, 0, ..., 0, 0, 0], dtype=uint8), array([0, 0, 2, ..., 0, 0, 2], dtype=uint8), array([0, 0, 2, ..., 0, 0, 3], dtype=uint8), array([0, 0, 0, ..., 4, 1, 1], dtype=uint8), array([0, 0, 1, ..., 0, 0, 3], dtype=uint8), array([0, 0, 1, ..., 0, 0, 2], dtype=uint8), array([0, 0, 1, ..., 0, 0, 1], dtype=uint8), array([5, 1, 2, ..., 0, 0, 0], dtype=uint8), array([0, 0, 0, ..., 0, 0, 0], dtype=uint8), array([0, 0, 0, ..., 0, 0, 1], dtype=uint8), array([2, 0, 1, ..., 0, 0, 0], dtype=uint8), array([0, 0, 0, ..., 0, 0, 0], dtype=uint8), array([0, 0, 0, ..., 0, 0, 1], dtype=uint8), array([0, 0, 3, ..., 0, 0, 3], dtype=uint8), array([0, 0, 1, ..., 1, 0, 1], dtype=uint8), array([0, 0, 0, ..., 0, 0, 1], dtype=uint8), array([0, 0, 3, ..., 0, 0, 3], dtype=uint8), array([0, 0, 1, ..., 0, 0, 1], dtype=uint8), array([0, 0, 1, ..., 0, 0, 1], dtype=uint8), array([0, 0, 1, ..., 0, 0, 1], dtype=uint8), array([0, 0, 1, ..., 0, 0, 2], dtype=uint8), array([0, 0, 1, ..., 0, 0, 0], dtype=uint8), array([3, 1, 1, ..., 0, 0, 3], dtype=uint8), array([0, 0, 2, ..., 0, 0, 0], dtype=uint8), array([3, 0, 1, ..., 0, 0, 2], dtype=uint8), array([2, 0, 3, ..., 2, 0, 2], dtype=uint8), array([0, 0, 2, ..., 0, 0, 2], dtype=uint8), array([0, 0, 4, ..., 0, 0, 3], dtype=uint8), array([0, 0, 0, ..., 0, 0, 0], dtype=uint8), array([0, 0, 0, ..., 0, 0, 0], dtype=uint8), array([0, 0, 0, ..., 1, 0, 0], dtype=uint8), array([0, 0, 0, ..., 0, 0, 1], dtype=uint8), array([5, 1, 2, ..., 0, 0, 0], dtype=uint8), array([2, 0, 2, ..., 2, 0, 2], dtype=uint8), array([5, 1, 2, ..., 2, 0, 0], dtype=uint8), array([2, 0, 1, ..., 0, 0, 3], dtype=uint8), array([0, 0, 3, ..., 0, 0, 2], dtype=uint8), array([0, 0, 0, ..., 0, 0, 2], dtype=uint8), array([0, 0, 0, ..., 0, 0, 2], dtype=uint8), array([0, 0, 3, ..., 0, 0, 2], dtype=uint8), array([0, 0, 2, ..., 0, 0, 1], dtype=uint8), array([0, 0, 2, ..., 0, 0, 3], dtype=uint8), array([5, 1, 2, ..., 0, 0, 1], dtype=uint8), array([0, 0, 2, ..., 0, 0, 3], dtype=uint8), array([0, 0, 3, ..., 0, 0, 2], dtype=uint8), array([3, 0, 2, ..., 0, 0, 3], dtype=uint8), array([0, 0, 2, ..., 0, 0, 3], dtype=uint8), array([0, 0, 1, ..., 0, 0, 1], dtype=uint8), array([0, 0, 2, ..., 0, 0, 0], dtype=uint8), array([0, 0, 0, ..., 0, 0, 1], dtype=uint8), array([0, 0, 3, ..., 0, 0, 0], dtype=uint8), array([0, 0, 2, ..., 0, 0, 3], dtype=uint8), array([0, 0, 3, ..., 0, 0, 3], dtype=uint8), array([0, 0, 1, ..., 0, 0, 2], dtype=uint8), array([0, 0, 1, ..., 0, 0, 1], dtype=uint8), array([0, 0, 0, ..., 0, 0, 0], dtype=uint8), array([0, 0, 2, ..., 0, 0, 1], dtype=uint8), array([3, 1, 2, ..., 3, 1, 3], dtype=uint8), array([0, 0, 0, ..., 0, 0, 3], dtype=uint8), array([3, 1, 3, ..., 3, 1, 3], dtype=uint8), array([0, 0, 1, ..., 0, 0, 3], dtype=uint8), array([0, 0, 0, ..., 0, 0, 0], dtype=uint8), array([0, 0, 0, ..., 0, 0, 3], dtype=uint8), array([5, 1, 2, ..., 5, 1, 2], dtype=uint8), array([0, 0, 0, ..., 0, 0, 3], dtype=uint8), array([0, 0, 0, ..., 0, 0, 0], dtype=uint8), array([1, 0, 0, ..., 0, 0, 0], dtype=uint8), array([0, 0, 1, ..., 0, 0, 3], dtype=uint8), array([0, 0, 0, ..., 0, 0, 0], dtype=uint8), array([0, 0, 3, ..., 0, 0, 1], dtype=uint8), array([0, 0, 1, ..., 0, 0, 3], dtype=uint8), array([0, 0, 1, ..., 0, 0, 1], dtype=uint8), array([0, 0, 0, ..., 0, 0, 1], dtype=uint8), array([0, 0, 2, ..., 0, 0, 3], dtype=uint8), array([0, 0, 1, ..., 0, 0, 3], dtype=uint8), array([0, 0, 2, ..., 0, 0, 1], dtype=uint8), array([0, 0, 1, ..., 0, 0, 2], dtype=uint8), array([0, 0, 2, ..., 0, 0, 3], dtype=uint8), array([3, 1, 2, ..., 3, 1, 2], dtype=uint8), array([0, 0, 0, ..., 0, 0, 0], dtype=uint8), array([0, 0, 0, ..., 0, 0, 0], dtype=uint8), array([0, 0, 0, ..., 0, 0, 0], dtype=uint8), array([0, 0, 0, ..., 0, 0, 0], dtype=uint8), array([0, 0, 0, ..., 0, 0, 0], dtype=uint8), array([0, 0, 0, ..., 0, 0, 0], dtype=uint8), array([0, 0, 0, ..., 0, 0, 0], dtype=uint8), array([0, 0, 1, ..., 0, 0, 3], dtype=uint8), array([0, 0, 0, ..., 0, 0, 0], dtype=uint8), array([0, 0, 0, ..., 0, 0, 0], dtype=uint8), array([0, 0, 0, ..., 0, 0, 0], dtype=uint8), array([0, 0, 0, ..., 0, 0, 0], dtype=uint8), array([0, 0, 0, ..., 0, 0, 0], dtype=uint8), array([0, 0, 0, ..., 0, 0, 0], dtype=uint8), array([0, 0, 0, ..., 0, 0, 0], dtype=uint8), array([0, 0, 0, ..., 0, 0, 0], dtype=uint8), array([0, 0, 0, ..., 0, 0, 0], dtype=uint8), array([0, 0, 0, ..., 0, 0, 0], dtype=uint8), array([0, 0, 0, ..., 0, 0, 0], dtype=uint8), array([0, 0, 0, ..., 0, 0, 0], dtype=uint8), array([0, 0, 0, ..., 0, 0, 0], dtype=uint8), array([0, 0, 0, ..., 0, 0, 0], dtype=uint8), array([0, 0, 0, ..., 0, 0, 0], dtype=uint8), array([0, 0, 0, ..., 0, 0, 0], dtype=uint8), array([0, 0, 0, ..., 0, 0, 0], dtype=uint8), array([0, 0, 0, ..., 0, 0, 0], dtype=uint8), array([0, 0, 0, ..., 0, 0, 0], dtype=uint8), array([0, 0, 0, ..., 0, 0, 0], dtype=uint8), array([0, 0, 0, ..., 0, 0, 0], dtype=uint8), array([0, 0, 0, ..., 0, 0, 0], dtype=uint8), array([0, 0, 0, ..., 0, 0, 0], dtype=uint8), array([0, 0, 0, ..., 0, 0, 0], dtype=uint8), array([0, 0, 0, ..., 0, 0, 0], dtype=uint8), array([0, 0, 0, ..., 0, 0, 0], dtype=uint8), array([0, 0, 0, ..., 0, 0, 0], dtype=uint8), array([0, 0, 0, ..., 0, 0, 0], dtype=uint8), array([0, 0, 0, ..., 0, 0, 0], dtype=uint8), array([0, 0, 0, ..., 0, 0, 0], dtype=uint8), array([0, 0, 0, ..., 0, 0, 0], dtype=uint8), array([0, 0, 0, ..., 0, 0, 0], dtype=uint8), array([0, 0, 0, ..., 0, 0, 0], dtype=uint8), array([0, 0, 0, ..., 0, 0, 0], dtype=uint8), array([0, 0, 0, ..., 0, 0, 0], dtype=uint8), array([0, 0, 0, ..., 0, 0, 0], dtype=uint8), array([0, 0, 0, ..., 0, 0, 0], dtype=uint8), array([0, 0, 0, ..., 0, 0, 0], dtype=uint8), array([0, 0, 0, ..., 0, 0, 0], dtype=uint8), array([0, 0, 0, ..., 0, 0, 0], dtype=uint8), array([0, 0, 0, ..., 0, 0, 0], dtype=uint8), array([0, 0, 0, ..., 0, 0, 0], dtype=uint8), array([0, 0, 0, ..., 0, 0, 0], dtype=uint8), array([0, 0, 0, ..., 0, 0, 0], dtype=uint8), array([0, 0, 0, ..., 0, 0, 0], dtype=uint8), array([0, 0, 0, ..., 0, 0, 0], dtype=uint8), array([0, 0, 0, ..., 0, 0, 0], dtype=uint8), array([0, 0, 0, ..., 0, 0, 0], dtype=uint8), array([0, 0, 0, ..., 0, 0, 0], dtype=uint8), array([0, 0, 0, ..., 0, 0, 0], dtype=uint8), array([0, 0, 0, ..., 0, 0, 0], dtype=uint8), array([0, 0, 0, ..., 0, 0, 0], dtype=uint8), array([0, 0, 0, ..., 0, 0, 0], dtype=uint8), array([0, 0, 0, ..., 0, 0, 0], dtype=uint8), array([0, 0, 0, ..., 0, 0, 0], dtype=uint8), array([0, 0, 0, ..., 0, 0, 0], dtype=uint8), array([0, 0, 0, ..., 0, 0, 0], dtype=uint8), array([0, 0, 0, ..., 0, 0, 0], dtype=uint8), array([0, 0, 0, ..., 0, 0, 0], dtype=uint8), array([0, 0, 0, ..., 0, 0, 0], dtype=uint8), array([0, 0, 0, ..., 0, 0, 0], dtype=uint8), array([0, 0, 0, ..., 0, 0, 0], dtype=uint8), array([0, 0, 0, ..., 0, 0, 0], dtype=uint8), array([0, 0, 0, ..., 0, 0, 0], dtype=uint8), array([0, 0, 0, ..., 0, 0, 0], dtype=uint8), array([0, 0, 0, ..., 0, 0, 0], dtype=uint8), array([0, 0, 0, ..., 0, 0, 0], dtype=uint8), array([0, 0, 0, ..., 0, 0, 0], dtype=uint8), array([0, 0, 0, ..., 0, 0, 0], dtype=uint8), array([0, 0, 0, ..., 0, 0, 0], dtype=uint8), array([0, 0, 0, ..., 0, 0, 0], dtype=uint8), array([0, 0, 0, ..., 0, 0, 0], dtype=uint8), array([0, 0, 0, ..., 0, 0, 0], dtype=uint8), array([0, 0, 0, ..., 0, 0, 0], dtype=uint8), array([0, 0, 0, ..., 0, 0, 0], dtype=uint8), array([0, 0, 0, ..., 0, 0, 0], dtype=uint8), array([0, 0, 0, ..., 0, 0, 0], dtype=uint8), array([0, 0, 0, ..., 0, 0, 0], dtype=uint8), array([0, 0, 0, ..., 0, 0, 0], dtype=uint8), array([0, 0, 0, ..., 0, 0, 0], dtype=uint8), array([0, 0, 0, ..., 0, 0, 0], dtype=uint8), array([0, 0, 0, ..., 0, 0, 0], dtype=uint8), array([0, 0, 0, ..., 0, 0, 0], dtype=uint8), array([0, 0, 0, ..., 0, 0, 0], dtype=uint8), array([0, 0, 0, ..., 0, 0, 0], dtype=uint8), array([0, 0, 0, ..., 0, 0, 0], dtype=uint8), array([0, 0, 0, ..., 0, 0, 0], dtype=uint8), array([0, 0, 0, ..., 0, 0, 0], dtype=uint8), array([0, 0, 0, ..., 0, 0, 0], dtype=uint8), array([0, 0, 0, ..., 0, 0, 0], dtype=uint8), array([0, 0, 0, ..., 0, 0, 0], dtype=uint8), array([0, 0, 0, ..., 0, 0, 0], dtype=uint8), array([0, 0, 0, ..., 0, 0, 0], dtype=uint8), array([0, 0, 1, ..., 0, 0, 2], dtype=uint8), array([0, 0, 0, ..., 0, 0, 0], dtype=uint8), array([0, 0, 0, ..., 0, 0, 0], dtype=uint8), array([0, 0, 0, ..., 0, 0, 0], dtype=uint8), array([0, 0, 0, ..., 0, 0, 0], dtype=uint8), array([0, 0, 0, ..., 0, 0, 0], dtype=uint8), array([0, 0, 0, ..., 0, 0, 0], dtype=uint8), array([0, 0, 0, ..., 0, 0, 0], dtype=uint8), array([0, 0, 0, ..., 0, 0, 0], dtype=uint8), array([0, 0, 0, ..., 0, 0, 0], dtype=uint8), array([0, 0, 0, ..., 0, 0, 0], dtype=uint8), array([0, 0, 0, ..., 0, 0, 0], dtype=uint8), array([0, 0, 0, ..., 0, 0, 0], dtype=uint8), array([0, 0, 0, ..., 0, 0, 0], dtype=uint8), array([0, 0, 0, ..., 0, 0, 0], dtype=uint8), array([0, 0, 0, ..., 0, 0, 0], dtype=uint8), array([0, 0, 0, ..., 0, 0, 0], dtype=uint8), array([0, 0, 0, ..., 0, 0, 0], dtype=uint8), array([0, 0, 0, ..., 0, 0, 0], dtype=uint8), array([0, 0, 0, ..., 0, 0, 0], dtype=uint8), array([0, 0, 0, ..., 0, 0, 0], dtype=uint8), array([0, 0, 0, ..., 0, 0, 0], dtype=uint8), array([0, 0, 0, ..., 0, 0, 0], dtype=uint8), array([0, 0, 0, ..., 0, 0, 0], dtype=uint8), array([0, 0, 0, ..., 0, 0, 0], dtype=uint8), array([0, 0, 0, ..., 0, 0, 0], dtype=uint8), array([0, 0, 0, ..., 0, 0, 0], dtype=uint8), array([0, 0, 0, ..., 0, 0, 0], dtype=uint8), array([0, 0, 0, ..., 0, 0, 0], dtype=uint8), array([0, 0, 0, ..., 0, 0, 0], dtype=uint8), array([0, 0, 0, ..., 0, 0, 0], dtype=uint8), array([0, 0, 0, ..., 0, 0, 0], dtype=uint8), array([0, 0, 0, ..., 0, 0, 0], dtype=uint8), array([0, 0, 0, ..., 0, 0, 0], dtype=uint8), array([0, 0, 0, ..., 0, 0, 0], dtype=uint8), array([0, 0, 0, ..., 0, 0, 0], dtype=uint8), array([0, 0, 0, ..., 0, 0, 0], dtype=uint8), array([0, 0, 0, ..., 0, 0, 0], dtype=uint8), array([0, 0, 0, ..., 0, 0, 0], dtype=uint8), array([0, 0, 0, ..., 0, 0, 0], dtype=uint8), array([0, 0, 1, ..., 0, 0, 2], dtype=uint8), array([0, 0, 1, ..., 0, 0, 1], dtype=uint8), array([0, 0, 0, ..., 0, 0, 1], dtype=uint8), array([0, 0, 0, ..., 0, 0, 1], dtype=uint8), array([0, 0, 0, ..., 0, 0, 2], dtype=uint8), array([0, 0, 2, ..., 0, 0, 1], dtype=uint8), array([0, 0, 2, ..., 0, 0, 4], dtype=uint8), array([0, 0, 4, ..., 0, 0, 3], dtype=uint8), array([0, 0, 2, ..., 0, 0, 2], dtype=uint8), array([0, 0, 1, ..., 0, 0, 1], dtype=uint8), array([1, 0, 1, ..., 0, 0, 2], dtype=uint8), array([0, 0, 0, ..., 0, 0, 0], dtype=uint8), array([1, 0, 1, ..., 0, 0, 4], dtype=uint8), array([0, 0, 0, ..., 0, 0, 1], dtype=uint8), array([1, 0, 1, ..., 0, 0, 2], dtype=uint8), array([0, 0, 1, ..., 0, 0, 2], dtype=uint8), array([0, 0, 3, ..., 0, 0, 3], dtype=uint8), array([0, 0, 0, ..., 0, 0, 0], dtype=uint8), array([0, 0, 0, ..., 0, 0, 0], dtype=uint8), array([0, 0, 0, ..., 0, 0, 0], dtype=uint8), array([0, 0, 1, ..., 0, 0, 0], dtype=uint8), array([0, 0, 2, ..., 0, 0, 1], dtype=uint8), array([0, 0, 0, ..., 0, 0, 0], dtype=uint8), array([0, 0, 2, ..., 0, 0, 2], dtype=uint8), array([0, 0, 1, ..., 0, 0, 0], dtype=uint8), array([0, 0, 2, ..., 0, 0, 2], dtype=uint8), array([0, 0, 3, ..., 0, 0, 1], dtype=uint8), array([0, 0, 0, ..., 0, 0, 0], dtype=uint8), array([0, 0, 0, ..., 0, 0, 2], dtype=uint8), array([0, 0, 0, ..., 0, 0, 1], dtype=uint8), array([0, 0, 1, ..., 0, 0, 1], dtype=uint8), array([0, 0, 0, ..., 0, 0, 1], dtype=uint8), array([0, 0, 2, ..., 0, 0, 3], dtype=uint8), array([0, 0, 0, ..., 0, 0, 2], dtype=uint8), array([0, 0, 3, ..., 0, 0, 1], dtype=uint8), array([2, 0, 1, ..., 0, 0, 1], dtype=uint8), array([0, 0, 2, ..., 0, 0, 3], dtype=uint8), array([0, 0, 0, ..., 0, 0, 2], dtype=uint8), array([0, 0, 0, ..., 0, 0, 0], dtype=uint8), array([0, 0, 0, ..., 0, 0, 0], dtype=uint8), array([1, 0, 0, ..., 0, 0, 2], dtype=uint8), array([0, 0, 0, ..., 0, 0, 1], dtype=uint8), array([0, 0, 0, ..., 0, 0, 2], dtype=uint8), array([0, 0, 1, ..., 0, 0, 2], dtype=uint8), array([0, 0, 0, ..., 0, 0, 0], dtype=uint8), array([0, 0, 0, ..., 0, 0, 1], dtype=uint8), array([0, 0, 2, ..., 0, 0, 0], dtype=uint8), array([0, 0, 0, ..., 0, 0, 0], dtype=uint8), array([0, 0, 1, ..., 0, 0, 3], dtype=uint8), array([0, 0, 2, ..., 4, 1, 2], dtype=uint8), array([0, 0, 2, ..., 0, 0, 3], dtype=uint8), array([0, 0, 2, ..., 0, 0, 3], dtype=uint8), array([0, 0, 2, ..., 0, 0, 3], dtype=uint8), array([0, 0, 2, ..., 0, 0, 2], dtype=uint8), array([0, 0, 2, ..., 0, 0, 3], dtype=uint8), array([0, 0, 0, ..., 0, 0, 1], dtype=uint8), array([4, 1, 1, ..., 0, 0, 1], dtype=uint8), array([0, 0, 1, ..., 1, 0, 0], dtype=uint8), array([0, 0, 2, ..., 0, 0, 1], dtype=uint8), array([0, 0, 0, ..., 0, 0, 1], dtype=uint8), array([0, 0, 0, ..., 0, 0, 2], dtype=uint8), array([4, 1, 1, ..., 0, 0, 0], dtype=uint8), array([0, 0, 0, ..., 0, 0, 3], dtype=uint8), array([0, 0, 2, ..., 0, 0, 2], dtype=uint8), array([0, 0, 3, ..., 0, 0, 3], dtype=uint8), array([0, 0, 0, ..., 0, 0, 2], dtype=uint8), array([0, 0, 0, ..., 0, 0, 1], dtype=uint8), array([0, 0, 4, ..., 0, 0, 3], dtype=uint8), array([0, 0, 3, ..., 0, 0, 3], dtype=uint8), array([0, 0, 4, ..., 0, 0, 3], dtype=uint8), array([0, 0, 1, ..., 0, 0, 1], dtype=uint8), array([0, 0, 0, ..., 0, 0, 3], dtype=uint8), array([3, 1, 1, ..., 0, 0, 3], dtype=uint8), array([0, 0, 0, ..., 0, 0, 2], dtype=uint8), array([0, 0, 0, ..., 0, 0, 0], dtype=uint8), array([0, 0, 1, ..., 0, 0, 2], dtype=uint8), array([0, 0, 0, ..., 1, 0, 1], dtype=uint8), array([4, 2, 3, ..., 3, 1, 2], dtype=uint8), array([0, 0, 1, ..., 0, 0, 1], dtype=uint8), array([0, 0, 1, ..., 0, 0, 2], dtype=uint8), array([0, 0, 3, ..., 0, 0, 2], dtype=uint8), array([0, 0, 1, ..., 0, 0, 3], dtype=uint8), array([0, 0, 0, ..., 0, 0, 2], dtype=uint8), array([1, 0, 1, ..., 0, 0, 3], dtype=uint8), array([0, 0, 0, ..., 1, 0, 0], dtype=uint8), array([4, 1, 1, ..., 5, 1, 2], dtype=uint8), array([4, 1, 1, ..., 0, 0, 1], dtype=uint8), array([0, 0, 2, ..., 0, 0, 3], dtype=uint8), array([0, 0, 1, ..., 0, 0, 1], dtype=uint8), array([0, 0, 2, ..., 0, 0, 2], dtype=uint8), array([0, 0, 0, ..., 0, 0, 1], dtype=uint8), array([0, 0, 0, ..., 0, 0, 1], dtype=uint8), array([1, 0, 1, ..., 0, 0, 1], dtype=uint8), array([0, 0, 1, ..., 0, 0, 1], dtype=uint8), array([3, 1, 3, ..., 3, 1, 3], dtype=uint8)]\n"
     ]
    }
   ],
   "source": [
    "print(f_array)"
   ]
  },
  {
   "cell_type": "markdown",
   "metadata": {},
   "source": [
    "# K Elbow Visualizer"
   ]
  },
  {
   "cell_type": "code",
   "execution_count": 11,
   "metadata": {},
   "outputs": [
    {
     "data": {
      "image/png": "[encoded data removed]",
      "text/plain": [
       "<Figure size 576x396 with 2 Axes>"
      ]
     },
     "metadata": {},
     "output_type": "display_data"
    },
    {
     "data": {
      "text/plain": [
       "<AxesSubplot:title={'center':'Distortion Score Elbow for KMeans Clustering'}, xlabel='k', ylabel='distortion score'>"
      ]
     },
     "execution_count": 11,
     "metadata": {},
     "output_type": "execute_result"
    }
   ],
   "source": [
    "f2_array= np.array(f_array)\n",
    "model = KMeans()\n",
    "visualizer = KElbowVisualizer(model, k=(2,20))\n",
    "visualizer.fit(f2_array)\n",
    "visualizer.show()"
   ]
  },
  {
   "cell_type": "code",
   "execution_count": 12,
   "metadata": {},
   "outputs": [],
   "source": [
    "def KMEANS(f2_array,labels):\n",
    "    kmeans = KMeans(n_clusters=visualizer.elbow_value_, random_state=0).fit(f2_array)\n",
    "    predictions = kmeans.predict(f2_array)\n",
    "    labels['class_K'] = predictions\n",
    "    unique = labels['class_K'].unique()\n",
    "    \n",
    "    return predictions,unique"
   ]
  },
  {
   "cell_type": "code",
   "execution_count": 13,
   "metadata": {},
   "outputs": [],
   "source": [
    "predictions,unique=KMEANS(f2_array,labels)"
   ]
  },
  {
   "cell_type": "code",
   "execution_count": 14,
   "metadata": {},
   "outputs": [
    {
     "name": "stdout",
     "output_type": "stream",
     "text": [
      "[5 2 0 1 3 6 4]\n"
     ]
    }
   ],
   "source": [
    "print(unique)"
   ]
  },
  {
   "cell_type": "code",
   "execution_count": 15,
   "metadata": {},
   "outputs": [],
   "source": [
    "def sampling(labels):\n",
    "    sampling = []\n",
    "    for i in unique:\n",
    "        temp = labels[ labels['class_K'] == i ]\n",
    "        temp = temp.sample(frac = 0.7)\n",
    "        sampling.append(temp)\n",
    "    return sampling"
   ]
  },
  {
   "cell_type": "code",
   "execution_count": 16,
   "metadata": {},
   "outputs": [],
   "source": [
    "sampled_data=sampling(labels)\n"
   ]
  },
  {
   "cell_type": "code",
   "execution_count": 17,
   "metadata": {},
   "outputs": [],
   "source": [
    "df = pd.concat(sampled_data)"
   ]
  },
  {
   "cell_type": "code",
   "execution_count": 18,
   "metadata": {},
   "outputs": [
    {
     "data": {
      "text/html": [
       "<div>\n",
       "<style scoped>\n",
       "    .dataframe tbody tr th:only-of-type {\n",
       "        vertical-align: middle;\n",
       "    }\n",
       "\n",
       "    .dataframe tbody tr th {\n",
       "        vertical-align: top;\n",
       "    }\n",
       "\n",
       "    .dataframe thead th {\n",
       "        text-align: right;\n",
       "    }\n",
       "</style>\n",
       "<table border=\"1\" class=\"dataframe\">\n",
       "  <thead>\n",
       "    <tr style=\"text-align: right;\">\n",
       "      <th></th>\n",
       "      <th>Image_name</th>\n",
       "      <th>level</th>\n",
       "      <th>class_K</th>\n",
       "    </tr>\n",
       "  </thead>\n",
       "  <tbody>\n",
       "    <tr>\n",
       "      <th>229</th>\n",
       "      <td>IMG_230</td>\n",
       "      <td>2</td>\n",
       "      <td>5</td>\n",
       "    </tr>\n",
       "    <tr>\n",
       "      <th>132</th>\n",
       "      <td>IMG_133</td>\n",
       "      <td>4</td>\n",
       "      <td>5</td>\n",
       "    </tr>\n",
       "    <tr>\n",
       "      <th>255</th>\n",
       "      <td>IMG_256</td>\n",
       "      <td>0</td>\n",
       "      <td>5</td>\n",
       "    </tr>\n",
       "    <tr>\n",
       "      <th>111</th>\n",
       "      <td>IMG_112</td>\n",
       "      <td>3</td>\n",
       "      <td>5</td>\n",
       "    </tr>\n",
       "    <tr>\n",
       "      <th>50</th>\n",
       "      <td>IMG_51</td>\n",
       "      <td>2</td>\n",
       "      <td>5</td>\n",
       "    </tr>\n",
       "    <tr>\n",
       "      <th>...</th>\n",
       "      <td>...</td>\n",
       "      <td>...</td>\n",
       "      <td>...</td>\n",
       "    </tr>\n",
       "    <tr>\n",
       "      <th>395</th>\n",
       "      <td>IMG_396</td>\n",
       "      <td>2</td>\n",
       "      <td>4</td>\n",
       "    </tr>\n",
       "    <tr>\n",
       "      <th>168</th>\n",
       "      <td>IMG_169</td>\n",
       "      <td>3</td>\n",
       "      <td>4</td>\n",
       "    </tr>\n",
       "    <tr>\n",
       "      <th>465</th>\n",
       "      <td>IMG_466</td>\n",
       "      <td>2</td>\n",
       "      <td>4</td>\n",
       "    </tr>\n",
       "    <tr>\n",
       "      <th>161</th>\n",
       "      <td>IMG_162</td>\n",
       "      <td>2</td>\n",
       "      <td>4</td>\n",
       "    </tr>\n",
       "    <tr>\n",
       "      <th>309</th>\n",
       "      <td>IMG_310</td>\n",
       "      <td>3</td>\n",
       "      <td>4</td>\n",
       "    </tr>\n",
       "  </tbody>\n",
       "</table>\n",
       "<p>362 rows × 3 columns</p>\n",
       "</div>"
      ],
      "text/plain": [
       "    Image_name  level  class_K\n",
       "229    IMG_230      2        5\n",
       "132    IMG_133      4        5\n",
       "255    IMG_256      0        5\n",
       "111    IMG_112      3        5\n",
       "50      IMG_51      2        5\n",
       "..         ...    ...      ...\n",
       "395    IMG_396      2        4\n",
       "168    IMG_169      3        4\n",
       "465    IMG_466      2        4\n",
       "161    IMG_162      2        4\n",
       "309    IMG_310      3        4\n",
       "\n",
       "[362 rows x 3 columns]"
      ]
     },
     "execution_count": 18,
     "metadata": {},
     "output_type": "execute_result"
    }
   ],
   "source": [
    "df"
   ]
  },
  {
   "cell_type": "code",
   "execution_count": 200,
   "metadata": {},
   "outputs": [],
   "source": [
    "#for time calculation of each model.\n",
    "time_model=[]\n",
    "time_model2=[]"
   ]
  },
  {
   "cell_type": "markdown",
   "metadata": {},
   "source": [
    "# Step 2\n",
    "## Segmentation"
   ]
  },
  {
   "cell_type": "code",
   "execution_count": 19,
   "metadata": {},
   "outputs": [],
   "source": [
    "import matplotlib.pyplot as plt\n",
    "import cv2\n",
    "%matplotlib inline"
   ]
  },
  {
   "cell_type": "code",
   "execution_count": 38,
   "metadata": {},
   "outputs": [],
   "source": [
    "def segmentation(new_images):\n",
    "    for i in new_images:\n",
    "        image = cv2.imread('new_images/'+i+'.png')\n",
    "        image = cv2.cvtColor(image, cv2.COLOR_BGR2RGB)\n",
    "        plt.imshow(image)\n",
    "        # Reshaping the image into a 2D array of pixels and 3 color values (RGB)\n",
    "        pixel_vals = image\n",
    "        # Convert to float type\n",
    "        pixel_vals = np.float32(pixel_vals)\n",
    "        \"\"\"Iterations=200 and accuracy 85% is the criteria\"\"\"\n",
    "        criteria = (cv2.TERM_CRITERIA_EPS + cv2.TERM_CRITERIA_MAX_ITER, 200, 0.85) \n",
    "        \"\"\" K-means clustering on k = 6 and random centers\"\"\"\n",
    "        k = 7\n",
    "        retval, labels, centers = cv2.kmeans(pixel_vals, k, None, criteria, 10, cv2.KMEANS_RANDOM_CENTERS)\n",
    "        # converting the  data into 8-bit values\n",
    "        centers = np.uint8(centers)\n",
    "        segmented_data = centers[labels.flatten()]\n",
    "        segmented_image = segmented_data.reshape((image.shape))\n",
    "        plt.imshow(segmented_image)\n",
    "        cv2.imwrite('segmented_images/'+i+'.png',segmented_image)"
   ]
  },
  {
   "cell_type": "code",
   "execution_count": 39,
   "metadata": {},
   "outputs": [
    {
     "data": {
      "image/png": "[encoded data removed]",
      "text/plain": [
       "<Figure size 432x288 with 1 Axes>"
      ]
     },
     "metadata": {
      "needs_background": "light"
     },
     "output_type": "display_data"
    }
   ],
   "source": [
    "segmentation(image_new)"
   ]
  },
  {
   "cell_type": "code",
   "execution_count": 42,
   "metadata": {},
   "outputs": [
    {
     "data": {
      "text/plain": [
       "<matplotlib.image.AxesImage at 0x7ff4154be730>"
      ]
     },
     "execution_count": 42,
     "metadata": {},
     "output_type": "execute_result"
    },
    {
     "data": {
      "image/png": "[encoded data removed]",
      "text/plain": [
       "<Figure size 432x288 with 1 Axes>"
      ]
     },
     "metadata": {
      "needs_background": "light"
     },
     "output_type": "display_data"
    }
   ],
   "source": [
    "image = cv2.imread('new_images/IMG_10.png')\n",
    "image = cv2.cvtColor(image, cv2.COLOR_BGR2RGB)\n",
    "plt.imshow(image)\n",
    "# Reshaping the image into a 2D array of pixels and 3 color values (RGB)\n",
    "pixel_vals = image\n",
    "# Convert to float type\n",
    "pixel_vals = np.float32(pixel_vals)\n",
    "\"\"\"Iterations=200 and accuracy 85% is the criteria\"\"\"\n",
    "criteria = (cv2.TERM_CRITERIA_EPS + cv2.TERM_CRITERIA_MAX_ITER, 200, 0.85) \n",
    "\"\"\" K-means clustering on k = 6 and random centers\"\"\"\n",
    "k = 7\n",
    "retval, labels, centers = cv2.kmeans(pixel_vals, k, None, criteria, 10, cv2.KMEANS_RANDOM_CENTERS)\n",
    "# converting the  data into 8-bit values\n",
    "centers = np.uint8(centers)\n",
    "segmented_data = centers[labels.flatten()]\n",
    "segmented_image = segmented_data.reshape((image.shape))\n",
    "plt.imshow(segmented_image)"
   ]
  },
  {
   "cell_type": "markdown",
   "metadata": {},
   "source": [
    "# Step 3 \n"
   ]
  },
  {
   "cell_type": "markdown",
   "metadata": {},
   "source": [
    "## (i) Split the data into test and train"
   ]
  },
  {
   "cell_type": "code",
   "execution_count": 43,
   "metadata": {},
   "outputs": [],
   "source": [
    "from numpy.random import RandomState\n",
    "rng = RandomState()\n",
    "train = df.sample(frac=0.7, random_state=rng)\n",
    "test = df.loc[~df.index.isin(train.index)]"
   ]
  },
  {
   "cell_type": "code",
   "execution_count": 44,
   "metadata": {},
   "outputs": [],
   "source": [
    "train.to_csv(\"train.csv\",index=False)\n",
    "test.to_csv(\"test.csv\",index=False)"
   ]
  },
  {
   "cell_type": "markdown",
   "metadata": {},
   "source": [
    "## (ii) ML model Logistic Regression (non-segmented images)"
   ]
  },
  {
   "cell_type": "code",
   "execution_count": 45,
   "metadata": {},
   "outputs": [],
   "source": [
    "def imageselection(x,y,n):\n",
    "    count = np.zeros(10)\n",
    "    lim = n / 10\n",
    "    x1 = []\n",
    "    y1 = []\n",
    "    for i in range(10):\n",
    "        for j in range(x.shape[0]):\n",
    "            if(count[i] == lim):\n",
    "                break\n",
    "            else:\n",
    "                if(y[j] == i):\n",
    "                    count[i] += 1\n",
    "                    x1.append(x[j])\n",
    "                    y1.append(y[j])\n",
    "    x2=np.array(x1)\n",
    "    y2=np.array(y1)\n",
    "    return x2,y2"
   ]
  },
  {
   "cell_type": "code",
   "execution_count": 46,
   "metadata": {},
   "outputs": [],
   "source": [
    "df_label= list(df['level'])\n",
    "def read_seg(new_images):\n",
    "    seg=[]\n",
    "    for i in new_images:\n",
    "        image = Image.open(\"new_images/\"+i+'.png')\n",
    "        image1 = np.asarray(image)\n",
    "        seg.append(image1)\n",
    "    return seg"
   ]
  },
  {
   "cell_type": "code",
   "execution_count": 47,
   "metadata": {},
   "outputs": [],
   "source": [
    "segment=read_seg(df['Image_name'])"
   ]
  },
  {
   "cell_type": "code",
   "execution_count": 48,
   "metadata": {},
   "outputs": [],
   "source": [
    "x_train,y_train = segment[0:250],df_label[0:250]"
   ]
  },
  {
   "cell_type": "code",
   "execution_count": 49,
   "metadata": {},
   "outputs": [],
   "source": [
    "x_test,y_test = segment[250:],df_label[250:]"
   ]
  },
  {
   "cell_type": "code",
   "execution_count": 50,
   "metadata": {},
   "outputs": [],
   "source": [
    "def flatten(x):\n",
    "    b = x.flatten()\n",
    "    return b"
   ]
  },
  {
   "cell_type": "code",
   "execution_count": 51,
   "metadata": {},
   "outputs": [],
   "source": [
    "def normalize(label):\n",
    "    X = []\n",
    "    [X.append(flatten(i)) for i in label]\n",
    "    X = np.array(X)\n",
    "    return X\n",
    "\n",
    "X= normalize(x_train)\n",
    "X_TEST=normalize(x_test)"
   ]
  },
  {
   "cell_type": "code",
   "execution_count": 52,
   "metadata": {},
   "outputs": [],
   "source": [
    "from sklearn.linear_model import LogisticRegression"
   ]
  },
  {
   "cell_type": "markdown",
   "metadata": {},
   "source": [
    "## Training  "
   ]
  },
  {
   "cell_type": "code",
   "execution_count": 201,
   "metadata": {},
   "outputs": [
    {
     "name": "stderr",
     "output_type": "stream",
     "text": [
      "/Users/aqsarahman/opt/anaconda3/lib/python3.8/site-packages/sklearn/linear_model/_logistic.py:444: ConvergenceWarning: lbfgs failed to converge (status=1):\n",
      "STOP: TOTAL NO. of ITERATIONS REACHED LIMIT.\n",
      "\n",
      "Increase the number of iterations (max_iter) or scale the data as shown in:\n",
      "    https://scikit-learn.org/stable/modules/preprocessing.html\n",
      "Please also refer to the documentation for alternative solver options:\n",
      "    https://scikit-learn.org/stable/modules/linear_model.html#logistic-regression\n",
      "  n_iter_i = _check_optimize_result(\n"
     ]
    }
   ],
   "source": [
    "seconds = time.time()\n",
    "clf_logistic = LogisticRegression(random_state=0, solver='lbfgs', multi_class='multinomial').fit(X,y_train)\n",
    "time_model.append(time.time()-seconds)"
   ]
  },
  {
   "cell_type": "code",
   "execution_count": 54,
   "metadata": {},
   "outputs": [],
   "source": [
    "val_predictions = clf_logistic.predict(X_TEST)"
   ]
  },
  {
   "cell_type": "code",
   "execution_count": 55,
   "metadata": {},
   "outputs": [],
   "source": [
    "from sklearn.metrics import accuracy_score"
   ]
  },
  {
   "cell_type": "code",
   "execution_count": 56,
   "metadata": {},
   "outputs": [],
   "source": [
    "logreg_acc = accuracy_score(y_test, val_predictions)"
   ]
  },
  {
   "cell_type": "code",
   "execution_count": 57,
   "metadata": {},
   "outputs": [
    {
     "name": "stdout",
     "output_type": "stream",
     "text": [
      "Logistic Regression Accuracy on non-segmented: \n",
      "41.07142857142857\n"
     ]
    }
   ],
   "source": [
    "print(\"Logistic Regression Accuracy on non-segmented: \")\n",
    "print(logreg_acc * 100)"
   ]
  },
  {
   "cell_type": "markdown",
   "metadata": {},
   "source": [
    "## ML model naive bayes (nonn-segmented)"
   ]
  },
  {
   "cell_type": "code",
   "execution_count": 58,
   "metadata": {},
   "outputs": [],
   "source": [
    "from sklearn.naive_bayes import GaussianNB"
   ]
  },
  {
   "cell_type": "code",
   "execution_count": 59,
   "metadata": {},
   "outputs": [],
   "source": [
    "gnb = GaussianNB()"
   ]
  },
  {
   "cell_type": "code",
   "execution_count": 202,
   "metadata": {},
   "outputs": [],
   "source": [
    "seconds = time.time()\n",
    "gnb.fit(X,y_train)\n",
    "time_model.append(time.time()-seconds)"
   ]
  },
  {
   "cell_type": "code",
   "execution_count": 61,
   "metadata": {},
   "outputs": [],
   "source": [
    "val_predictions = gnb.predict(X_TEST)"
   ]
  },
  {
   "cell_type": "code",
   "execution_count": 62,
   "metadata": {},
   "outputs": [],
   "source": [
    "acc = accuracy_score(y_test, val_predictions)"
   ]
  },
  {
   "cell_type": "code",
   "execution_count": 63,
   "metadata": {},
   "outputs": [
    {
     "name": "stdout",
     "output_type": "stream",
     "text": [
      "NAIVE BAYES Accuracy non-segmented: \n",
      "33.92857142857143 %\n"
     ]
    }
   ],
   "source": [
    "print(\"NAIVE BAYES Accuracy non-segmented: \")\n",
    "print(acc * 100,'%')"
   ]
  },
  {
   "cell_type": "markdown",
   "metadata": {},
   "source": [
    "## (iii) ML model Logistic Regression (segmented images)\n"
   ]
  },
  {
   "cell_type": "code",
   "execution_count": 64,
   "metadata": {},
   "outputs": [],
   "source": [
    "def imageselection(x,y,n):\n",
    "    count = np.zeros(10)\n",
    "    lim = n / 10\n",
    "    x1 = []\n",
    "    y1 = []\n",
    "    for i in range(10):\n",
    "        for j in range(x.shape[0]):\n",
    "            if(count[i] == lim):\n",
    "                break\n",
    "            else:\n",
    "                if(y[j] == i):\n",
    "                    count[i] += 1\n",
    "                    x1.append(x[j])\n",
    "                    y1.append(y[j])\n",
    "    x2=np.array(x1)\n",
    "    y2=np.array(y1)\n",
    "    return x2,y2\n",
    "    \n"
   ]
  },
  {
   "cell_type": "code",
   "execution_count": 65,
   "metadata": {},
   "outputs": [],
   "source": [
    "df_label= list(df['level'])\n",
    "def read_seg(segmented_images):\n",
    "    seg=[]\n",
    "    for i in segmented_images:\n",
    "        image = Image.open(\"segmented_images/\"+i+'.png')\n",
    "        image1 = np.asarray(image)\n",
    "        seg.append(image1)\n",
    "    return seg\n"
   ]
  },
  {
   "cell_type": "code",
   "execution_count": 66,
   "metadata": {},
   "outputs": [],
   "source": [
    "segment=read_seg(df['Image_name'])"
   ]
  },
  {
   "cell_type": "code",
   "execution_count": 67,
   "metadata": {},
   "outputs": [],
   "source": [
    "x_train,y_train = segment[0:250],df_label[0:250]"
   ]
  },
  {
   "cell_type": "code",
   "execution_count": 68,
   "metadata": {},
   "outputs": [],
   "source": [
    "x_test,y_test = segment[250:],df_label[250:]"
   ]
  },
  {
   "cell_type": "code",
   "execution_count": 69,
   "metadata": {},
   "outputs": [],
   "source": [
    "def flatten(x):\n",
    "    b = x.flatten()\n",
    "    return b"
   ]
  },
  {
   "cell_type": "code",
   "execution_count": 70,
   "metadata": {},
   "outputs": [],
   "source": [
    "def normalize(label):\n",
    "    X = []\n",
    "    [X.append(flatten(i)) for i in label]\n",
    "    X = np.array(X)\n",
    "    return X\n",
    "\n",
    "X= normalize(x_train)\n",
    "X_TEST=normalize(x_test)"
   ]
  },
  {
   "cell_type": "code",
   "execution_count": 71,
   "metadata": {},
   "outputs": [],
   "source": [
    "from sklearn.linear_model import LogisticRegression"
   ]
  },
  {
   "cell_type": "code",
   "execution_count": 203,
   "metadata": {},
   "outputs": [
    {
     "name": "stderr",
     "output_type": "stream",
     "text": [
      "/Users/aqsarahman/opt/anaconda3/lib/python3.8/site-packages/sklearn/linear_model/_logistic.py:444: ConvergenceWarning: lbfgs failed to converge (status=1):\n",
      "STOP: TOTAL NO. of ITERATIONS REACHED LIMIT.\n",
      "\n",
      "Increase the number of iterations (max_iter) or scale the data as shown in:\n",
      "    https://scikit-learn.org/stable/modules/preprocessing.html\n",
      "Please also refer to the documentation for alternative solver options:\n",
      "    https://scikit-learn.org/stable/modules/linear_model.html#logistic-regression\n",
      "  n_iter_i = _check_optimize_result(\n"
     ]
    }
   ],
   "source": [
    "seconds = time.time()\n",
    "clf_logistic = LogisticRegression(random_state=0, solver='lbfgs', multi_class='multinomial').fit(X,y_train)\n",
    "time_model2.append(time.time()-seconds)"
   ]
  },
  {
   "cell_type": "code",
   "execution_count": 73,
   "metadata": {},
   "outputs": [],
   "source": [
    "val_predictions = clf_logistic.predict(X_TEST)"
   ]
  },
  {
   "cell_type": "code",
   "execution_count": 74,
   "metadata": {},
   "outputs": [],
   "source": [
    "from sklearn.metrics import accuracy_score"
   ]
  },
  {
   "cell_type": "code",
   "execution_count": 75,
   "metadata": {},
   "outputs": [],
   "source": [
    "logreg_acc = accuracy_score(y_test, val_predictions)"
   ]
  },
  {
   "cell_type": "code",
   "execution_count": 76,
   "metadata": {},
   "outputs": [
    {
     "name": "stdout",
     "output_type": "stream",
     "text": [
      "Logistic Regression Accuracy on Segmented images: \n",
      "41.07142857142857\n"
     ]
    }
   ],
   "source": [
    "print(\"Logistic Regression Accuracy on Segmented images: \")\n",
    "print(logreg_acc * 100)"
   ]
  },
  {
   "cell_type": "markdown",
   "metadata": {},
   "source": [
    "## (vi) ML model Naive Bayes (Segmented)"
   ]
  },
  {
   "cell_type": "code",
   "execution_count": 77,
   "metadata": {},
   "outputs": [],
   "source": [
    "from sklearn.naive_bayes import GaussianNB"
   ]
  },
  {
   "cell_type": "code",
   "execution_count": 78,
   "metadata": {},
   "outputs": [],
   "source": [
    "gnb = GaussianNB()"
   ]
  },
  {
   "cell_type": "code",
   "execution_count": 204,
   "metadata": {},
   "outputs": [],
   "source": [
    "seconds = time.time()\n",
    "gnb.fit(X,y_train)\n",
    "time_model2.append(time.time()-seconds)"
   ]
  },
  {
   "cell_type": "code",
   "execution_count": 80,
   "metadata": {},
   "outputs": [],
   "source": [
    "val_predictions = gnb.predict(X_TEST)"
   ]
  },
  {
   "cell_type": "code",
   "execution_count": 81,
   "metadata": {},
   "outputs": [],
   "source": [
    "acc = accuracy_score(y_test, val_predictions)"
   ]
  },
  {
   "cell_type": "code",
   "execution_count": 82,
   "metadata": {},
   "outputs": [
    {
     "name": "stdout",
     "output_type": "stream",
     "text": [
      "NAIVE BAYES Accuracy Segmented: \n",
      "33.92857142857143 %\n"
     ]
    }
   ],
   "source": [
    "print(\"NAIVE BAYES Accuracy Segmented: \")\n",
    "print(acc * 100,'%')"
   ]
  },
  {
   "cell_type": "markdown",
   "metadata": {},
   "source": [
    "## (iv) Neural Network ANN (segmented)"
   ]
  },
  {
   "cell_type": "markdown",
   "metadata": {},
   "source": [
    "### Data loader  "
   ]
  },
  {
   "cell_type": "code",
   "execution_count": 97,
   "metadata": {},
   "outputs": [],
   "source": [
    "\"\"\" Neural network (ANN) for images data to classify in 7 labels\"\"\"\n",
    "from torch.utils.data import Dataset\n",
    "class Dataset_loader(Dataset):\n",
    "    def __init__(self, annotations_file, img_dir, transform=None, target_transform=None):\n",
    "        self.img_labels = pd.read_csv(annotations_file)\n",
    "        self.img_dir = img_dir\n",
    "        self.transform = transform\n",
    "        self.target_transform = target_transform\n",
    "        train_labels = pd.read_csv(annotations_file)\n",
    "        labels_images = [i for i in train_labels['level']]\n",
    "\n",
    "    def __len__(self):\n",
    "        return len(self.img_labels)\n",
    "\n",
    "    def __getitem__(self, idx):\n",
    "        img_path = os.path.join(self.img_dir, self.img_labels.iloc[idx, 0]+'.png')\n",
    "        image = read_image(img_path)\n",
    "        label = self.img_labels.iloc[idx, 2]\n",
    "        if self.transform:\n",
    "            image = self.transform(image)\n",
    "        if self.target_transform:\n",
    "            label = self.target_transform(label)\n",
    "        text = self.img_labels.iloc[idx, 1]\n",
    "        array = torch.as_tensor(label)\n",
    "        x=image.float()\n",
    "        return x,array"
   ]
  },
  {
   "cell_type": "code",
   "execution_count": 98,
   "metadata": {},
   "outputs": [],
   "source": [
    "def loader():\n",
    "    train = Dataset_loader(annotations_file=\"train.csv\",img_dir=\"./segmented_images\")\n",
    "    test = Dataset_loader(annotations_file=\"test.csv\",img_dir=\"./segmented_images\")\n",
    "    train_dataloader = torch.utils.data.DataLoader(train, batch_size=16,num_workers=0,pin_memory=True)\n",
    "    test_dataloader = torch.utils.data.DataLoader(test, batch_size=16)\n",
    "    return train_dataloader,test_dataloader"
   ]
  },
  {
   "cell_type": "code",
   "execution_count": 99,
   "metadata": {},
   "outputs": [],
   "source": [
    "train_dataloader,test_dataloader = loader()"
   ]
  },
  {
   "cell_type": "code",
   "execution_count": 100,
   "metadata": {},
   "outputs": [],
   "source": [
    "test = Dataset_loader(annotations_file=\"test.csv\",img_dir=\"./segmented_images\")"
   ]
  },
  {
   "cell_type": "markdown",
   "metadata": {},
   "source": [
    "##  ANN"
   ]
  },
  {
   "cell_type": "code",
   "execution_count": 110,
   "metadata": {},
   "outputs": [],
   "source": [
    "class Net(nn.Module):\n",
    "    def __init__(self):\n",
    "        super().__init__()\n",
    "        self.flatten = nn.Flatten()\n",
    "        self.fc1 = nn.Linear(3888,1024)\n",
    "        self.fc2 = nn.Linear(1024,512)\n",
    "        self.fc3 = nn.Linear(512, 7)\n",
    "    \n",
    "    def forward(self, x):\n",
    "        x = torch.flatten(x, 1) # flatten all dimensions except batch\n",
    "        x = F.relu(self.fc1(x))\n",
    "        x = F.relu(self.fc2(x))\n",
    "       \n",
    "        \n",
    "\n",
    "        x =self.fc3(x)\n",
    "        return x\n",
    "image_net = Net()\n"
   ]
  },
  {
   "cell_type": "code",
   "execution_count": 111,
   "metadata": {},
   "outputs": [
    {
     "data": {
      "text/plain": [
       "Net(\n",
       "  (flatten): Flatten(start_dim=1, end_dim=-1)\n",
       "  (fc1): Linear(in_features=3888, out_features=1024, bias=True)\n",
       "  (fc2): Linear(in_features=1024, out_features=512, bias=True)\n",
       "  (fc3): Linear(in_features=512, out_features=7, bias=True)\n",
       ")"
      ]
     },
     "execution_count": 111,
     "metadata": {},
     "output_type": "execute_result"
    }
   ],
   "source": [
    "Net()"
   ]
  },
  {
   "cell_type": "markdown",
   "metadata": {},
   "source": [
    "## Loss function"
   ]
  },
  {
   "cell_type": "code",
   "execution_count": 112,
   "metadata": {},
   "outputs": [],
   "source": [
    "criterion = nn.CrossEntropyLoss()\n",
    "optimizer = optim.Adam(image_net.parameters(), lr=0.001)"
   ]
  },
  {
   "cell_type": "markdown",
   "metadata": {},
   "source": [
    "## Training"
   ]
  },
  {
   "cell_type": "code",
   "execution_count": 205,
   "metadata": {},
   "outputs": [
    {
     "name": "stdout",
     "output_type": "stream",
     "text": [
      "[1,     1] loss: 0.196\n",
      "[1,     3] loss: 1.038\n",
      "[1,     5] loss: 0.735\n",
      "[1,     7] loss: 1.216\n",
      "[1,     9] loss: 1.069\n",
      "[1,    11] loss: 0.926\n",
      "[1,    13] loss: 0.814\n",
      "[1,    15] loss: 0.717\n",
      "[2,     1] loss: 0.196\n",
      "[2,     3] loss: 1.038\n",
      "[2,     5] loss: 0.735\n",
      "[2,     7] loss: 1.216\n",
      "[2,     9] loss: 1.069\n",
      "[2,    11] loss: 0.926\n",
      "[2,    13] loss: 0.814\n",
      "[2,    15] loss: 0.717\n",
      "[3,     1] loss: 0.196\n",
      "[3,     3] loss: 1.038\n",
      "[3,     5] loss: 0.735\n",
      "[3,     7] loss: 1.216\n",
      "[3,     9] loss: 1.069\n",
      "[3,    11] loss: 0.926\n",
      "[3,    13] loss: 0.814\n",
      "[3,    15] loss: 0.717\n",
      "[4,     1] loss: 0.196\n",
      "[4,     3] loss: 1.038\n",
      "[4,     5] loss: 0.735\n",
      "[4,     7] loss: 1.216\n",
      "[4,     9] loss: 1.069\n",
      "[4,    11] loss: 0.926\n",
      "[4,    13] loss: 0.814\n",
      "[4,    15] loss: 0.717\n",
      "[5,     1] loss: 0.196\n",
      "[5,     3] loss: 1.038\n",
      "[5,     5] loss: 0.735\n",
      "[5,     7] loss: 1.216\n",
      "[5,     9] loss: 1.069\n",
      "[5,    11] loss: 0.926\n",
      "[5,    13] loss: 0.814\n",
      "[5,    15] loss: 0.717\n",
      "[6,     1] loss: 0.196\n",
      "[6,     3] loss: 1.038\n",
      "[6,     5] loss: 0.735\n",
      "[6,     7] loss: 1.216\n",
      "[6,     9] loss: 1.069\n",
      "[6,    11] loss: 0.926\n",
      "[6,    13] loss: 0.814\n",
      "[6,    15] loss: 0.717\n",
      "[7,     1] loss: 0.196\n",
      "[7,     3] loss: 1.038\n",
      "[7,     5] loss: 0.735\n",
      "[7,     7] loss: 1.216\n",
      "[7,     9] loss: 1.069\n",
      "[7,    11] loss: 0.926\n",
      "[7,    13] loss: 0.814\n",
      "[7,    15] loss: 0.717\n",
      "[8,     1] loss: 0.196\n",
      "[8,     3] loss: 1.038\n",
      "[8,     5] loss: 0.735\n",
      "[8,     7] loss: 1.216\n",
      "[8,     9] loss: 1.069\n",
      "[8,    11] loss: 0.926\n",
      "[8,    13] loss: 0.814\n",
      "[8,    15] loss: 0.717\n",
      "[9,     1] loss: 0.196\n",
      "[9,     3] loss: 1.038\n",
      "[9,     5] loss: 0.735\n",
      "[9,     7] loss: 1.216\n",
      "[9,     9] loss: 1.069\n",
      "[9,    11] loss: 0.926\n",
      "[9,    13] loss: 0.814\n",
      "[9,    15] loss: 0.717\n",
      "[10,     1] loss: 0.196\n",
      "[10,     3] loss: 1.038\n",
      "[10,     5] loss: 0.735\n",
      "[10,     7] loss: 1.216\n",
      "[10,     9] loss: 1.069\n",
      "[10,    11] loss: 0.926\n",
      "[10,    13] loss: 0.814\n",
      "[10,    15] loss: 0.717\n",
      "[11,     1] loss: 0.196\n",
      "[11,     3] loss: 1.038\n",
      "[11,     5] loss: 0.735\n",
      "[11,     7] loss: 1.216\n",
      "[11,     9] loss: 1.069\n",
      "[11,    11] loss: 0.926\n",
      "[11,    13] loss: 0.814\n",
      "[11,    15] loss: 0.717\n",
      "[12,     1] loss: 0.196\n",
      "[12,     3] loss: 1.038\n",
      "[12,     5] loss: 0.735\n",
      "[12,     7] loss: 1.216\n",
      "[12,     9] loss: 1.069\n",
      "[12,    11] loss: 0.926\n",
      "[12,    13] loss: 0.814\n",
      "[12,    15] loss: 0.717\n",
      "[13,     1] loss: 0.196\n",
      "[13,     3] loss: 1.038\n",
      "[13,     5] loss: 0.735\n",
      "[13,     7] loss: 1.216\n",
      "[13,     9] loss: 1.069\n",
      "[13,    11] loss: 0.926\n",
      "[13,    13] loss: 0.814\n",
      "[13,    15] loss: 0.717\n",
      "[14,     1] loss: 0.196\n",
      "[14,     3] loss: 1.038\n",
      "[14,     5] loss: 0.735\n",
      "[14,     7] loss: 1.216\n",
      "[14,     9] loss: 1.069\n",
      "[14,    11] loss: 0.926\n",
      "[14,    13] loss: 0.814\n",
      "[14,    15] loss: 0.717\n",
      "[15,     1] loss: 0.196\n",
      "[15,     3] loss: 1.038\n",
      "[15,     5] loss: 0.735\n",
      "[15,     7] loss: 1.216\n",
      "[15,     9] loss: 1.069\n",
      "[15,    11] loss: 0.926\n",
      "[15,    13] loss: 0.814\n",
      "[15,    15] loss: 0.717\n",
      "[16,     1] loss: 0.196\n",
      "[16,     3] loss: 1.038\n",
      "[16,     5] loss: 0.735\n",
      "[16,     7] loss: 1.216\n",
      "[16,     9] loss: 1.069\n",
      "[16,    11] loss: 0.926\n",
      "[16,    13] loss: 0.814\n",
      "[16,    15] loss: 0.717\n",
      "[17,     1] loss: 0.196\n",
      "[17,     3] loss: 1.038\n",
      "[17,     5] loss: 0.735\n",
      "[17,     7] loss: 1.216\n",
      "[17,     9] loss: 1.069\n",
      "[17,    11] loss: 0.926\n",
      "[17,    13] loss: 0.814\n",
      "[17,    15] loss: 0.717\n",
      "[18,     1] loss: 0.196\n",
      "[18,     3] loss: 1.038\n",
      "[18,     5] loss: 0.735\n",
      "[18,     7] loss: 1.216\n",
      "[18,     9] loss: 1.069\n",
      "[18,    11] loss: 0.926\n",
      "[18,    13] loss: 0.814\n",
      "[18,    15] loss: 0.717\n",
      "[19,     1] loss: 0.196\n",
      "[19,     3] loss: 1.038\n",
      "[19,     5] loss: 0.735\n",
      "[19,     7] loss: 1.216\n",
      "[19,     9] loss: 1.069\n",
      "[19,    11] loss: 0.926\n",
      "[19,    13] loss: 0.814\n",
      "[19,    15] loss: 0.717\n",
      "[20,     1] loss: 0.196\n",
      "[20,     3] loss: 1.038\n",
      "[20,     5] loss: 0.735\n",
      "[20,     7] loss: 1.216\n",
      "[20,     9] loss: 1.069\n",
      "[20,    11] loss: 0.926\n",
      "[20,    13] loss: 0.814\n",
      "[20,    15] loss: 0.717\n"
     ]
    }
   ],
   "source": [
    "seconds = time.time()\n",
    "for epoch in range(20):  # loop over the dataset multiple times\n",
    "    running_loss = 0.0\n",
    "    for i, data in enumerate(train_dataloader, 0):\n",
    "        inputs,labels = data\n",
    "        optimizer.zero_grad()\n",
    "        outputs = image_net(inputs)\n",
    "        loss = criterion(outputs, labels)\n",
    "        loss.backward()\n",
    "        optimizer.step()\n",
    "        running_loss += loss.item()\n",
    "        if i % 2 == 0:   \n",
    "            print(f'[{epoch + 1}, {i + 1:5d}] loss: {running_loss / 2:.3f}')\n",
    "            running_loss = 0.0\n",
    "time_model2.append(time.time()-seconds)"
   ]
  },
  {
   "cell_type": "code",
   "execution_count": 116,
   "metadata": {},
   "outputs": [
    {
     "name": "stdout",
     "output_type": "stream",
     "text": [
      "Accuracy  = 68 percent\n"
     ]
    }
   ],
   "source": [
    "correct = 0\n",
    "total = 0\n",
    "with torch.no_grad():\n",
    "    for data in test_dataloader:\n",
    "        inputs,labels = data\n",
    "        outputs = image_net(inputs)\n",
    "        _, predicted = torch.max(outputs.data, 1)\n",
    "        total += labels.size(0)\n",
    "        correct += (predicted == labels).sum().item()\n",
    "\n",
    "print(f'Accuracy  = {100 * correct // total } percent')"
   ]
  },
  {
   "cell_type": "markdown",
   "metadata": {},
   "source": [
    "## CNN  (Segmented)"
   ]
  },
  {
   "cell_type": "code",
   "execution_count": 130,
   "metadata": {},
   "outputs": [],
   "source": [
    "class Net(nn.Module):\n",
    "    def __init__(self):\n",
    "        super().__init__()\n",
    "        super(Net, self).__init__()\n",
    "        self.conv1 = nn.Conv2d(3, 10, 7)  \n",
    "        self.conv2 = nn.Conv2d(10, 21, 5)\n",
    "        self.pool = nn.MaxPool2d(2, stride=1) \n",
    "        self.pool2 = nn.MaxPool2d(4, stride=2) \n",
    "        self.fc1 = nn.Linear(2541, 120)  \n",
    "        self.fc2 = nn.Linear(120, 84)\n",
    "        self.fc3 = nn.Linear(84, 7) \n",
    "\n",
    "\n",
    "\n",
    "    def forward(self, x):\n",
    "        z = nn.functional.relu(self.conv1(x))  \n",
    "        z = self.pool(z)                         \n",
    "        z = nn.functional.relu(self.conv2(z))\n",
    "        z = self.pool2(z)                         \n",
    "        \n",
    "        z = torch.flatten(z, 1)   \n",
    "        z = nn.functional.relu(self.fc1(z))\n",
    "        z = nn.functional.relu(self.fc2(z))\n",
    "        z = self.fc3(z)\n",
    "        return z\n",
    "    \n",
    "cnn_net=Net()"
   ]
  },
  {
   "cell_type": "markdown",
   "metadata": {},
   "source": [
    "## loss function"
   ]
  },
  {
   "cell_type": "code",
   "execution_count": 131,
   "metadata": {},
   "outputs": [],
   "source": [
    "criterion = nn.CrossEntropyLoss()\n",
    "optimizer = optim.Adam(cnn_net.parameters(), lr=0.001)"
   ]
  },
  {
   "cell_type": "markdown",
   "metadata": {},
   "source": [
    "## Training"
   ]
  },
  {
   "cell_type": "code",
   "execution_count": 206,
   "metadata": {},
   "outputs": [
    {
     "name": "stdout",
     "output_type": "stream",
     "text": [
      "[1,     1] loss: 0.000\n",
      "[1,     3] loss: 0.001\n",
      "[1,     5] loss: 0.000\n",
      "[1,     7] loss: 0.001\n",
      "[1,     9] loss: 0.001\n",
      "[1,    11] loss: 0.001\n",
      "[1,    13] loss: 0.001\n",
      "[1,    15] loss: 0.000\n",
      "[2,     1] loss: 0.000\n",
      "[2,     3] loss: 0.001\n",
      "[2,     5] loss: 0.000\n",
      "[2,     7] loss: 0.001\n",
      "[2,     9] loss: 0.001\n",
      "[2,    11] loss: 0.001\n",
      "[2,    13] loss: 0.001\n",
      "[2,    15] loss: 0.000\n",
      "[3,     1] loss: 0.000\n",
      "[3,     3] loss: 0.001\n",
      "[3,     5] loss: 0.000\n",
      "[3,     7] loss: 0.001\n",
      "[3,     9] loss: 0.000\n",
      "[3,    11] loss: 0.000\n",
      "[3,    13] loss: 0.001\n",
      "[3,    15] loss: 0.000\n",
      "[4,     1] loss: 0.000\n",
      "[4,     3] loss: 0.001\n",
      "[4,     5] loss: 0.000\n",
      "[4,     7] loss: 0.001\n",
      "[4,     9] loss: 0.000\n",
      "[4,    11] loss: 0.000\n",
      "[4,    13] loss: 0.001\n",
      "[4,    15] loss: 0.000\n",
      "[5,     1] loss: 0.000\n",
      "[5,     3] loss: 0.001\n",
      "[5,     5] loss: 0.000\n",
      "[5,     7] loss: 0.001\n",
      "[5,     9] loss: 0.000\n",
      "[5,    11] loss: 0.000\n",
      "[5,    13] loss: 0.000\n",
      "[5,    15] loss: 0.000\n",
      "[6,     1] loss: 0.000\n",
      "[6,     3] loss: 0.001\n",
      "[6,     5] loss: 0.000\n",
      "[6,     7] loss: 0.001\n",
      "[6,     9] loss: 0.000\n",
      "[6,    11] loss: 0.000\n",
      "[6,    13] loss: 0.000\n",
      "[6,    15] loss: 0.000\n",
      "[7,     1] loss: 0.000\n",
      "[7,     3] loss: 0.001\n",
      "[7,     5] loss: 0.000\n",
      "[7,     7] loss: 0.001\n",
      "[7,     9] loss: 0.000\n",
      "[7,    11] loss: 0.000\n",
      "[7,    13] loss: 0.000\n",
      "[7,    15] loss: 0.000\n",
      "[8,     1] loss: 0.000\n",
      "[8,     3] loss: 0.000\n",
      "[8,     5] loss: 0.000\n",
      "[8,     7] loss: 0.001\n",
      "[8,     9] loss: 0.000\n",
      "[8,    11] loss: 0.000\n",
      "[8,    13] loss: 0.000\n",
      "[8,    15] loss: 0.000\n",
      "[9,     1] loss: 0.000\n",
      "[9,     3] loss: 0.000\n",
      "[9,     5] loss: 0.000\n",
      "[9,     7] loss: 0.000\n",
      "[9,     9] loss: 0.000\n",
      "[9,    11] loss: 0.000\n",
      "[9,    13] loss: 0.000\n",
      "[9,    15] loss: 0.000\n",
      "[10,     1] loss: 0.000\n",
      "[10,     3] loss: 0.000\n",
      "[10,     5] loss: 0.000\n",
      "[10,     7] loss: 0.000\n",
      "[10,     9] loss: 0.000\n",
      "[10,    11] loss: 0.000\n",
      "[10,    13] loss: 0.000\n",
      "[10,    15] loss: 0.000\n",
      "[11,     1] loss: 0.000\n",
      "[11,     3] loss: 0.000\n",
      "[11,     5] loss: 0.000\n",
      "[11,     7] loss: 0.000\n",
      "[11,     9] loss: 0.000\n",
      "[11,    11] loss: 0.000\n",
      "[11,    13] loss: 0.000\n",
      "[11,    15] loss: 0.000\n",
      "[12,     1] loss: 0.000\n",
      "[12,     3] loss: 0.000\n",
      "[12,     5] loss: 0.000\n",
      "[12,     7] loss: 0.000\n",
      "[12,     9] loss: 0.000\n",
      "[12,    11] loss: 0.000\n",
      "[12,    13] loss: 0.000\n",
      "[12,    15] loss: 0.000\n",
      "[13,     1] loss: 0.000\n",
      "[13,     3] loss: 0.000\n",
      "[13,     5] loss: 0.000\n",
      "[13,     7] loss: 0.000\n",
      "[13,     9] loss: 0.000\n",
      "[13,    11] loss: 0.000\n",
      "[13,    13] loss: 0.000\n",
      "[13,    15] loss: 0.000\n",
      "[14,     1] loss: 0.000\n",
      "[14,     3] loss: 0.000\n",
      "[14,     5] loss: 0.000\n",
      "[14,     7] loss: 0.000\n",
      "[14,     9] loss: 0.000\n",
      "[14,    11] loss: 0.000\n",
      "[14,    13] loss: 0.000\n",
      "[14,    15] loss: 0.000\n",
      "[15,     1] loss: 0.000\n",
      "[15,     3] loss: 0.000\n",
      "[15,     5] loss: 0.000\n",
      "[15,     7] loss: 0.000\n",
      "[15,     9] loss: 0.000\n",
      "[15,    11] loss: 0.000\n",
      "[15,    13] loss: 0.000\n",
      "[15,    15] loss: 0.000\n",
      "[16,     1] loss: 0.000\n",
      "[16,     3] loss: 0.000\n",
      "[16,     5] loss: 0.000\n",
      "[16,     7] loss: 0.000\n",
      "[16,     9] loss: 0.000\n",
      "[16,    11] loss: 0.000\n",
      "[16,    13] loss: 0.000\n",
      "[16,    15] loss: 0.000\n",
      "[17,     1] loss: 0.000\n",
      "[17,     3] loss: 0.000\n",
      "[17,     5] loss: 0.000\n",
      "[17,     7] loss: 0.000\n",
      "[17,     9] loss: 0.000\n",
      "[17,    11] loss: 0.000\n",
      "[17,    13] loss: 0.000\n",
      "[17,    15] loss: 0.000\n",
      "[18,     1] loss: 0.000\n",
      "[18,     3] loss: 0.000\n",
      "[18,     5] loss: 0.000\n",
      "[18,     7] loss: 0.000\n",
      "[18,     9] loss: 0.000\n",
      "[18,    11] loss: 0.000\n",
      "[18,    13] loss: 0.000\n",
      "[18,    15] loss: 0.000\n",
      "[19,     1] loss: 0.000\n",
      "[19,     3] loss: 0.000\n",
      "[19,     5] loss: 0.000\n",
      "[19,     7] loss: 0.000\n",
      "[19,     9] loss: 0.000\n",
      "[19,    11] loss: 0.000\n",
      "[19,    13] loss: 0.000\n",
      "[19,    15] loss: 0.000\n",
      "[20,     1] loss: 0.000\n",
      "[20,     3] loss: 0.000\n",
      "[20,     5] loss: 0.000\n",
      "[20,     7] loss: 0.000\n",
      "[20,     9] loss: 0.000\n",
      "[20,    11] loss: 0.000\n",
      "[20,    13] loss: 0.000\n",
      "[20,    15] loss: 0.000\n"
     ]
    }
   ],
   "source": [
    "# Training\n",
    "seconds = time.time()\n",
    "for epoch in range(20):  # loop over the dataset multiple times\n",
    "    running_loss = 0.0\n",
    "    for i, data in enumerate(train_dataloader, 0):\n",
    "        inputs,labels = data\n",
    "        optimizer.zero_grad()\n",
    "        outputs = cnn_net(inputs)\n",
    "        loss = criterion(outputs, labels)\n",
    "        loss.backward()\n",
    "        optimizer.step()\n",
    "        running_loss += loss.item()\n",
    "        if i % 2 == 0:   \n",
    "            print(f'[{epoch + 1}, {i + 1:5d}] loss: {running_loss / 2:.3f}')\n",
    "            running_loss = 0.0\n",
    "time_model2.append(time.time()-seconds)"
   ]
  },
  {
   "cell_type": "code",
   "execution_count": 133,
   "metadata": {},
   "outputs": [
    {
     "name": "stdout",
     "output_type": "stream",
     "text": [
      "Accuracy of the network on test images: 66 %\n"
     ]
    }
   ],
   "source": [
    "# Accuracy\n",
    "correct = 0\n",
    "total = 0\n",
    "with torch.no_grad():\n",
    "    for data in test_dataloader:\n",
    "        images, labels = data\n",
    "        outputs =cnn_net(images)\n",
    "        _, predicted = torch.max(outputs.data, 1)\n",
    "        total += labels.size(0)\n",
    "        correct += (predicted == labels).sum().item()\n",
    "acc=100 * correct // total\n",
    "\n",
    "print(f'Accuracy of the network on test images: {acc} %')"
   ]
  },
  {
   "cell_type": "markdown",
   "metadata": {},
   "source": [
    "## ANN for non-segmented images"
   ]
  },
  {
   "cell_type": "markdown",
   "metadata": {},
   "source": [
    "## Data loader"
   ]
  },
  {
   "cell_type": "code",
   "execution_count": 136,
   "metadata": {},
   "outputs": [],
   "source": [
    "\"\"\" Neural network (ANN) for images data to classify in 7 labels\"\"\"\n",
    "from torch.utils.data import Dataset\n",
    "class Dataset_loader(Dataset):\n",
    "    def __init__(self, annotations_file, img_dir, transform=None, target_transform=None):\n",
    "        self.img_labels = pd.read_csv(annotations_file)\n",
    "        self.img_dir = img_dir\n",
    "        self.transform = transform\n",
    "        self.target_transform = target_transform\n",
    "        train_labels = pd.read_csv(annotations_file)\n",
    "        labels_images = [i for i in train_labels['level']]\n",
    "\n",
    "    def __len__(self):\n",
    "        return len(self.img_labels)\n",
    "\n",
    "    def __getitem__(self, idx):\n",
    "        img_path = os.path.join(self.img_dir, self.img_labels.iloc[idx, 0]+'.png')\n",
    "        image = read_image(img_path)\n",
    "        label = self.img_labels.iloc[idx, 2]\n",
    "        if self.transform:\n",
    "            image = self.transform(image)\n",
    "        if self.target_transform:\n",
    "            label = self.target_transform(label)\n",
    "        text = self.img_labels.iloc[idx, 1]\n",
    "        array = torch.as_tensor(label)\n",
    "        x=image.float()\n",
    "        return x,array"
   ]
  },
  {
   "cell_type": "code",
   "execution_count": 137,
   "metadata": {},
   "outputs": [],
   "source": [
    "def loader():\n",
    "    train = Dataset_loader(annotations_file=\"train.csv\",img_dir=\"./new_images\")\n",
    "    test = Dataset_loader(annotations_file=\"test.csv\",img_dir=\"./new_images\")\n",
    "    train_dataloader = torch.utils.data.DataLoader(train, batch_size=16,num_workers=0,pin_memory=True)\n",
    "    test_dataloader = torch.utils.data.DataLoader(test, batch_size=16)\n",
    "    return train_dataloader,test_dataloader"
   ]
  },
  {
   "cell_type": "code",
   "execution_count": 138,
   "metadata": {},
   "outputs": [],
   "source": [
    "train_dataloader,test_dataloader = loader()"
   ]
  },
  {
   "cell_type": "code",
   "execution_count": 139,
   "metadata": {},
   "outputs": [],
   "source": [
    "test = Dataset_loader(annotations_file=\"test.csv\",img_dir=\"./new_images\")"
   ]
  },
  {
   "cell_type": "code",
   "execution_count": 158,
   "metadata": {},
   "outputs": [],
   "source": [
    "class Net(nn.Module):\n",
    "    def __init__(self):\n",
    "        super().__init__()\n",
    "        self.flatten = nn.Flatten()\n",
    "        self.fc1 = nn.Linear(3888,1024)\n",
    "        self.fc2 = nn.Linear(1024, 512)\n",
    "        self.fc3 = nn.Linear(512, 7)\n",
    "    \n",
    "    def forward(self, x):\n",
    "        x = torch.flatten(x, 1) # flatten all dimensions except batch\n",
    "        x = F.relu(self.fc1(x))\n",
    "        x = F.relu(self.fc2(x))\n",
    "    \n",
    "        x =self.fc3(x)\n",
    "        return x\n",
    "image_net = Net()\n"
   ]
  },
  {
   "cell_type": "code",
   "execution_count": 159,
   "metadata": {},
   "outputs": [
    {
     "data": {
      "text/plain": [
       "Net(\n",
       "  (flatten): Flatten(start_dim=1, end_dim=-1)\n",
       "  (fc1): Linear(in_features=3888, out_features=1024, bias=True)\n",
       "  (fc2): Linear(in_features=1024, out_features=512, bias=True)\n",
       "  (fc3): Linear(in_features=512, out_features=7, bias=True)\n",
       ")"
      ]
     },
     "execution_count": 159,
     "metadata": {},
     "output_type": "execute_result"
    }
   ],
   "source": [
    "Net()"
   ]
  },
  {
   "cell_type": "markdown",
   "metadata": {},
   "source": [
    "## Loss function"
   ]
  },
  {
   "cell_type": "code",
   "execution_count": 160,
   "metadata": {},
   "outputs": [],
   "source": [
    "criterion = nn.CrossEntropyLoss()\n",
    "optimizer = optim.Adam(image_net.parameters(), lr=0.001)"
   ]
  },
  {
   "cell_type": "markdown",
   "metadata": {},
   "source": [
    "## Training"
   ]
  },
  {
   "cell_type": "code",
   "execution_count": 207,
   "metadata": {},
   "outputs": [
    {
     "name": "stdout",
     "output_type": "stream",
     "text": [
      "[1,     1] loss: 0.196\n",
      "[1,     3] loss: 1.038\n",
      "[1,     5] loss: 0.735\n",
      "[1,     7] loss: 1.216\n",
      "[1,     9] loss: 1.069\n",
      "[1,    11] loss: 0.926\n",
      "[1,    13] loss: 0.814\n",
      "[1,    15] loss: 0.717\n",
      "[2,     1] loss: 0.196\n",
      "[2,     3] loss: 1.038\n",
      "[2,     5] loss: 0.735\n",
      "[2,     7] loss: 1.216\n",
      "[2,     9] loss: 1.069\n",
      "[2,    11] loss: 0.926\n",
      "[2,    13] loss: 0.814\n",
      "[2,    15] loss: 0.717\n",
      "[3,     1] loss: 0.196\n",
      "[3,     3] loss: 1.038\n",
      "[3,     5] loss: 0.735\n",
      "[3,     7] loss: 1.216\n",
      "[3,     9] loss: 1.069\n",
      "[3,    11] loss: 0.926\n",
      "[3,    13] loss: 0.814\n",
      "[3,    15] loss: 0.717\n",
      "[4,     1] loss: 0.196\n",
      "[4,     3] loss: 1.038\n",
      "[4,     5] loss: 0.735\n",
      "[4,     7] loss: 1.216\n",
      "[4,     9] loss: 1.069\n",
      "[4,    11] loss: 0.926\n",
      "[4,    13] loss: 0.814\n",
      "[4,    15] loss: 0.717\n",
      "[5,     1] loss: 0.196\n",
      "[5,     3] loss: 1.038\n",
      "[5,     5] loss: 0.735\n",
      "[5,     7] loss: 1.216\n",
      "[5,     9] loss: 1.069\n",
      "[5,    11] loss: 0.926\n",
      "[5,    13] loss: 0.814\n",
      "[5,    15] loss: 0.717\n",
      "[6,     1] loss: 0.196\n",
      "[6,     3] loss: 1.038\n",
      "[6,     5] loss: 0.735\n",
      "[6,     7] loss: 1.216\n",
      "[6,     9] loss: 1.069\n",
      "[6,    11] loss: 0.926\n",
      "[6,    13] loss: 0.814\n",
      "[6,    15] loss: 0.717\n",
      "[7,     1] loss: 0.196\n",
      "[7,     3] loss: 1.038\n",
      "[7,     5] loss: 0.735\n",
      "[7,     7] loss: 1.216\n",
      "[7,     9] loss: 1.069\n",
      "[7,    11] loss: 0.926\n",
      "[7,    13] loss: 0.814\n",
      "[7,    15] loss: 0.717\n",
      "[8,     1] loss: 0.196\n",
      "[8,     3] loss: 1.038\n",
      "[8,     5] loss: 0.735\n",
      "[8,     7] loss: 1.216\n",
      "[8,     9] loss: 1.069\n",
      "[8,    11] loss: 0.926\n",
      "[8,    13] loss: 0.814\n",
      "[8,    15] loss: 0.717\n",
      "[9,     1] loss: 0.196\n",
      "[9,     3] loss: 1.038\n",
      "[9,     5] loss: 0.735\n",
      "[9,     7] loss: 1.216\n",
      "[9,     9] loss: 1.069\n",
      "[9,    11] loss: 0.926\n",
      "[9,    13] loss: 0.814\n",
      "[9,    15] loss: 0.717\n",
      "[10,     1] loss: 0.196\n",
      "[10,     3] loss: 1.038\n",
      "[10,     5] loss: 0.735\n",
      "[10,     7] loss: 1.216\n",
      "[10,     9] loss: 1.069\n",
      "[10,    11] loss: 0.926\n",
      "[10,    13] loss: 0.814\n",
      "[10,    15] loss: 0.717\n"
     ]
    }
   ],
   "source": [
    "seconds = time.time()\n",
    "for epoch in range(10):  # loop over the dataset multiple times\n",
    "    running_loss = 0.0\n",
    "    for i, data in enumerate(train_dataloader, 0):\n",
    "        inputs,labels = data\n",
    "        optimizer.zero_grad()\n",
    "        outputs = image_net(inputs)\n",
    "        loss = criterion(outputs, labels)\n",
    "        loss.backward()\n",
    "        optimizer.step()\n",
    "        running_loss += loss.item()\n",
    "        if i % 2 == 0:   \n",
    "            print(f'[{epoch + 1}, {i + 1:5d}] loss: {running_loss / 2:.3f}')\n",
    "            running_loss = 0.0\n",
    "time_model.append(time.time()-seconds)"
   ]
  },
  {
   "cell_type": "code",
   "execution_count": 162,
   "metadata": {},
   "outputs": [
    {
     "name": "stdout",
     "output_type": "stream",
     "text": [
      "Accuracy of ANN non-segmented = 55 percent\n"
     ]
    }
   ],
   "source": [
    "correct = 0\n",
    "total = 0\n",
    "with torch.no_grad():\n",
    "    for data in test_dataloader:\n",
    "        inputs,labels = data\n",
    "        outputs = image_net(inputs)\n",
    "        _, predicted = torch.max(outputs.data, 1)\n",
    "        total += labels.size(0)\n",
    "        correct += (predicted == labels).sum().item()\n",
    "\n",
    "print(f'Accuracy of ANN non-segmented = {100 * correct // total } percent')"
   ]
  },
  {
   "cell_type": "markdown",
   "metadata": {},
   "source": [
    "## CNN (non-segmented images)"
   ]
  },
  {
   "cell_type": "code",
   "execution_count": 168,
   "metadata": {},
   "outputs": [],
   "source": [
    "class Net(nn.Module):\n",
    "    def __init__(self):\n",
    "        super().__init__()\n",
    "        super(Net, self).__init__()\n",
    "        self.conv1 = nn.Conv2d(3, 10, 7)  \n",
    "        self.conv2 = nn.Conv2d(10, 21, 5)\n",
    "        self.pool = nn.MaxPool2d(2, stride=1) \n",
    "        self.pool2 = nn.MaxPool2d(4, stride=2) \n",
    "        self.fc1 = nn.Linear(2541, 120)  \n",
    "        self.fc2 = nn.Linear(120, 84)\n",
    "        self.fc3 = nn.Linear(84, 7) \n",
    "\n",
    "\n",
    "\n",
    "    def forward(self, x):\n",
    "        z = nn.functional.relu(self.conv1(x))  \n",
    "        z = self.pool(z)                         \n",
    "        z = nn.functional.relu(self.conv2(z))\n",
    "        z = self.pool2(z)                         \n",
    "        \n",
    "        z = torch.flatten(z, 1)   \n",
    "        z = nn.functional.relu(self.fc1(z))\n",
    "        z = nn.functional.relu(self.fc2(z))\n",
    "        z = self.fc3(z)\n",
    "        return z\n",
    "\n",
    "cnn_net=Net()\n"
   ]
  },
  {
   "cell_type": "code",
   "execution_count": 169,
   "metadata": {},
   "outputs": [],
   "source": [
    "criterion = nn.CrossEntropyLoss()\n",
    "optimizer = optim.Adam(cnn_net.parameters(), lr=0.001)"
   ]
  },
  {
   "cell_type": "code",
   "execution_count": 208,
   "metadata": {},
   "outputs": [
    {
     "name": "stdout",
     "output_type": "stream",
     "text": [
      "[1,     1] loss: 0.000\n",
      "[1,     3] loss: 0.000\n",
      "[1,     5] loss: 0.000\n",
      "[1,     7] loss: 0.000\n",
      "[1,     9] loss: 0.000\n",
      "[1,    11] loss: 0.000\n",
      "[1,    13] loss: 0.000\n",
      "[1,    15] loss: 0.000\n",
      "[2,     1] loss: 0.000\n",
      "[2,     3] loss: 0.000\n",
      "[2,     5] loss: 0.000\n",
      "[2,     7] loss: 0.000\n",
      "[2,     9] loss: 0.000\n",
      "[2,    11] loss: 0.000\n",
      "[2,    13] loss: 0.000\n",
      "[2,    15] loss: 0.000\n",
      "[3,     1] loss: 0.000\n",
      "[3,     3] loss: 0.000\n",
      "[3,     5] loss: 0.000\n",
      "[3,     7] loss: 0.000\n",
      "[3,     9] loss: 0.000\n",
      "[3,    11] loss: 0.000\n",
      "[3,    13] loss: 0.000\n",
      "[3,    15] loss: 0.000\n",
      "[4,     1] loss: 0.000\n",
      "[4,     3] loss: 0.000\n",
      "[4,     5] loss: 0.000\n",
      "[4,     7] loss: 0.000\n",
      "[4,     9] loss: 0.000\n",
      "[4,    11] loss: 0.000\n",
      "[4,    13] loss: 0.000\n",
      "[4,    15] loss: 0.000\n",
      "[5,     1] loss: 0.000\n",
      "[5,     3] loss: 0.000\n",
      "[5,     5] loss: 0.000\n",
      "[5,     7] loss: 0.000\n",
      "[5,     9] loss: 0.000\n",
      "[5,    11] loss: 0.000\n",
      "[5,    13] loss: 0.000\n",
      "[5,    15] loss: 0.000\n",
      "[6,     1] loss: 0.000\n",
      "[6,     3] loss: 0.000\n",
      "[6,     5] loss: 0.000\n",
      "[6,     7] loss: 0.000\n",
      "[6,     9] loss: 0.000\n",
      "[6,    11] loss: 0.000\n",
      "[6,    13] loss: 0.000\n",
      "[6,    15] loss: 0.000\n",
      "[7,     1] loss: 0.000\n",
      "[7,     3] loss: 0.000\n",
      "[7,     5] loss: 0.000\n",
      "[7,     7] loss: 0.000\n",
      "[7,     9] loss: 0.000\n",
      "[7,    11] loss: 0.000\n",
      "[7,    13] loss: 0.000\n",
      "[7,    15] loss: 0.000\n",
      "[8,     1] loss: 0.000\n",
      "[8,     3] loss: 0.000\n",
      "[8,     5] loss: 0.000\n",
      "[8,     7] loss: 0.000\n",
      "[8,     9] loss: 0.000\n",
      "[8,    11] loss: 0.000\n",
      "[8,    13] loss: 0.000\n",
      "[8,    15] loss: 0.000\n",
      "[9,     1] loss: 0.000\n",
      "[9,     3] loss: 0.000\n",
      "[9,     5] loss: 0.000\n",
      "[9,     7] loss: 0.000\n",
      "[9,     9] loss: 0.000\n",
      "[9,    11] loss: 0.000\n",
      "[9,    13] loss: 0.000\n",
      "[9,    15] loss: 0.000\n",
      "[10,     1] loss: 0.000\n",
      "[10,     3] loss: 0.000\n",
      "[10,     5] loss: 0.000\n",
      "[10,     7] loss: 0.000\n",
      "[10,     9] loss: 0.000\n",
      "[10,    11] loss: 0.000\n",
      "[10,    13] loss: 0.000\n",
      "[10,    15] loss: 0.000\n",
      "[11,     1] loss: 0.000\n",
      "[11,     3] loss: 0.000\n",
      "[11,     5] loss: 0.000\n",
      "[11,     7] loss: 0.000\n",
      "[11,     9] loss: 0.000\n",
      "[11,    11] loss: 0.000\n",
      "[11,    13] loss: 0.000\n",
      "[11,    15] loss: 0.000\n",
      "[12,     1] loss: 0.000\n",
      "[12,     3] loss: 0.000\n",
      "[12,     5] loss: 0.000\n",
      "[12,     7] loss: 0.000\n",
      "[12,     9] loss: 0.000\n",
      "[12,    11] loss: 0.000\n",
      "[12,    13] loss: 0.000\n",
      "[12,    15] loss: 0.000\n",
      "[13,     1] loss: 0.000\n",
      "[13,     3] loss: 0.000\n",
      "[13,     5] loss: 0.000\n",
      "[13,     7] loss: 0.000\n",
      "[13,     9] loss: 0.000\n",
      "[13,    11] loss: 0.000\n",
      "[13,    13] loss: 0.000\n",
      "[13,    15] loss: 0.000\n",
      "[14,     1] loss: 0.000\n",
      "[14,     3] loss: 0.000\n",
      "[14,     5] loss: 0.000\n",
      "[14,     7] loss: 0.000\n",
      "[14,     9] loss: 0.000\n",
      "[14,    11] loss: 0.000\n",
      "[14,    13] loss: 0.000\n",
      "[14,    15] loss: 0.000\n",
      "[15,     1] loss: 0.000\n",
      "[15,     3] loss: 0.000\n",
      "[15,     5] loss: 0.000\n",
      "[15,     7] loss: 0.000\n",
      "[15,     9] loss: 0.000\n",
      "[15,    11] loss: 0.000\n",
      "[15,    13] loss: 0.000\n",
      "[15,    15] loss: 0.000\n",
      "[16,     1] loss: 0.000\n",
      "[16,     3] loss: 0.000\n",
      "[16,     5] loss: 0.000\n",
      "[16,     7] loss: 0.000\n",
      "[16,     9] loss: 0.000\n",
      "[16,    11] loss: 0.000\n",
      "[16,    13] loss: 0.000\n",
      "[16,    15] loss: 0.000\n",
      "[17,     1] loss: 0.000\n",
      "[17,     3] loss: 0.000\n",
      "[17,     5] loss: 0.000\n",
      "[17,     7] loss: 0.000\n",
      "[17,     9] loss: 0.000\n",
      "[17,    11] loss: 0.000\n",
      "[17,    13] loss: 0.000\n",
      "[17,    15] loss: 0.000\n",
      "[18,     1] loss: 0.000\n",
      "[18,     3] loss: 0.000\n",
      "[18,     5] loss: 0.000\n",
      "[18,     7] loss: 0.000\n",
      "[18,     9] loss: 0.000\n",
      "[18,    11] loss: 0.000\n",
      "[18,    13] loss: 0.000\n",
      "[18,    15] loss: 0.000\n",
      "[19,     1] loss: 0.000\n",
      "[19,     3] loss: 0.000\n",
      "[19,     5] loss: 0.000\n",
      "[19,     7] loss: 0.000\n",
      "[19,     9] loss: 0.000\n",
      "[19,    11] loss: 0.000\n",
      "[19,    13] loss: 0.000\n",
      "[19,    15] loss: 0.000\n",
      "[20,     1] loss: 0.000\n",
      "[20,     3] loss: 0.000\n",
      "[20,     5] loss: 0.000\n",
      "[20,     7] loss: 0.000\n",
      "[20,     9] loss: 0.000\n",
      "[20,    11] loss: 0.000\n",
      "[20,    13] loss: 0.000\n",
      "[20,    15] loss: 0.000\n"
     ]
    }
   ],
   "source": [
    "# Training\n",
    "seconds = time.time()\n",
    "for epoch in range(20):  # loop over the dataset multiple times\n",
    "    running_loss = 0.0\n",
    "    for i, data in enumerate(train_dataloader, 0):\n",
    "        inputs,labels = data\n",
    "        optimizer.zero_grad()\n",
    "        outputs = cnn_net(inputs)\n",
    "        loss = criterion(outputs, labels)\n",
    "        loss.backward()\n",
    "        optimizer.step()\n",
    "        running_loss += loss.item()\n",
    "        if i % 2 == 0:   \n",
    "            print(f'[{epoch + 1}, {i + 1:5d}] loss: {running_loss / 2:.3f}')\n",
    "            running_loss = 0.0\n",
    "time_model.append(time.time()-seconds)  "
   ]
  },
  {
   "cell_type": "code",
   "execution_count": 171,
   "metadata": {},
   "outputs": [
    {
     "name": "stdout",
     "output_type": "stream",
     "text": [
      "Accuracy of the network on test images non segmented: 68 %\n"
     ]
    }
   ],
   "source": [
    "# Accuracy\n",
    "correct = 0\n",
    "total = 0\n",
    "with torch.no_grad():\n",
    "    for data in test_dataloader:\n",
    "        images, labels = data\n",
    "        outputs =cnn_net(images)\n",
    "        _, predicted = torch.max(outputs.data, 1)\n",
    "        total += labels.size(0)\n",
    "        correct += (predicted == labels).sum().item()\n",
    "acc=100 * correct // total\n",
    "\n",
    "print(f'Accuracy of the network on test images non segmented: {acc} %')"
   ]
  },
  {
   "cell_type": "markdown",
   "metadata": {},
   "source": [
    "## Time Graph"
   ]
  },
  {
   "cell_type": "code",
   "execution_count": 209,
   "metadata": {},
   "outputs": [],
   "source": [
    "import seaborn as sns"
   ]
  },
  {
   "cell_type": "code",
   "execution_count": 210,
   "metadata": {},
   "outputs": [
    {
     "data": {
      "image/png": "[encoded data removed]",
      "text/plain": [
       "<Figure size 432x288 with 1 Axes>"
      ]
     },
     "metadata": {
      "needs_background": "light"
     },
     "output_type": "display_data"
    }
   ],
   "source": [
    "fig=sns.barplot(x=['LR','GNB','ANN','CNN'],y=time_model)\n",
    "plt.xlabel(\"Models\")\n",
    "plt.ylabel(\"Time\")\n",
    "plt.title(\"Time graph on non-segmented images\")\n",
    "plt.show(fig)"
   ]
  },
  {
   "cell_type": "code",
   "execution_count": 212,
   "metadata": {},
   "outputs": [
    {
     "data": {
      "image/png": "[encoded data removed]",
      "text/plain": [
       "<Figure size 432x288 with 1 Axes>"
      ]
     },
     "metadata": {
      "needs_background": "light"
     },
     "output_type": "display_data"
    }
   ],
   "source": [
    "fig=sns.barplot(x=['LR','GNB','ANN','CNN'],y=time_model2)\n",
    "plt.xlabel(\"Models\")\n",
    "plt.ylabel(\"Time\")\n",
    "plt.title(\"Time graph on segmented images\")\n",
    "plt.show(fig)"
   ]
  },
  {
   "cell_type": "code",
   "execution_count": null,
   "metadata": {},
   "outputs": [],
   "source": []
  },
  {
   "cell_type": "code",
   "execution_count": null,
   "metadata": {},
   "outputs": [],
   "source": []
  },
  {
   "cell_type": "code",
   "execution_count": null,
   "metadata": {},
   "outputs": [],
   "source": []
  },
  {
   "cell_type": "code",
   "execution_count": null,
   "metadata": {},
   "outputs": [],
   "source": []
  },
  {
   "cell_type": "code",
   "execution_count": null,
   "metadata": {},
   "outputs": [],
   "source": []
  },
  {
   "cell_type": "code",
   "execution_count": null,
   "metadata": {},
   "outputs": [],
   "source": []
  }
 ],
 "metadata": {
  "kernelspec": {
   "display_name": "Python 3",
   "language": "python",
   "name": "python3"
  },
  "language_info": {
   "codemirror_mode": {
    "name": "ipython",
    "version": 3
   },
   "file_extension": ".py",
   "mimetype": "text/x-python",
   "name": "python",
   "nbconvert_exporter": "python",
   "pygments_lexer": "ipython3",
   "version": "3.8.5"
  }
 },
 "nbformat": 4,
 "nbformat_minor": 4
}
